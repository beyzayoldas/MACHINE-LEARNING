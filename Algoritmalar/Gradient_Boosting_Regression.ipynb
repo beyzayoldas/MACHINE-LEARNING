{
 "cells": [
  {
   "cell_type": "code",
   "execution_count": 1,
   "id": "79b94bfe",
   "metadata": {},
   "outputs": [],
   "source": [
    "import numpy as np\n",
    "import matplotlib.pyplot as plt\n",
    "import pandas as pd"
   ]
  },
  {
   "cell_type": "code",
   "execution_count": 2,
   "id": "0bed8afc",
   "metadata": {},
   "outputs": [],
   "source": [
    "dataset = pd.read_csv(r'C:\\Users\\user\\OneDrive - Manisa Celal Bayar Üniversitesi\\Masaüstü\\Beyza Yoldaş\\Veri Toplama\\akıllısaat-fill-training.csv')\n"
   ]
  },
  {
   "cell_type": "code",
   "execution_count": 3,
   "id": "8d540209",
   "metadata": {},
   "outputs": [
    {
     "data": {
      "text/html": [
       "<div>\n",
       "<style scoped>\n",
       "    .dataframe tbody tr th:only-of-type {\n",
       "        vertical-align: middle;\n",
       "    }\n",
       "\n",
       "    .dataframe tbody tr th {\n",
       "        vertical-align: top;\n",
       "    }\n",
       "\n",
       "    .dataframe thead th {\n",
       "        text-align: right;\n",
       "    }\n",
       "</style>\n",
       "<table border=\"1\" class=\"dataframe\">\n",
       "  <thead>\n",
       "    <tr style=\"text-align: right;\">\n",
       "      <th></th>\n",
       "      <th>Fiyat</th>\n",
       "      <th>Marka</th>\n",
       "      <th>Kasa_capi</th>\n",
       "      <th>Garanti_suresi</th>\n",
       "      <th>Batarya_kapasitesi</th>\n",
       "      <th>Ekran_boyutu</th>\n",
       "      <th>Sesli_gorusme</th>\n",
       "      <th>Renk</th>\n",
       "      <th>Titresim</th>\n",
       "      <th>GPS</th>\n",
       "      <th>Isletim_tipi</th>\n",
       "      <th>Kordon_renk</th>\n",
       "    </tr>\n",
       "  </thead>\n",
       "  <tbody>\n",
       "    <tr>\n",
       "      <th>0</th>\n",
       "      <td>3690.0</td>\n",
       "      <td>7</td>\n",
       "      <td>44</td>\n",
       "      <td>2</td>\n",
       "      <td>250</td>\n",
       "      <td>1.75</td>\n",
       "      <td>1</td>\n",
       "      <td>6</td>\n",
       "      <td>1</td>\n",
       "      <td>0</td>\n",
       "      <td>0</td>\n",
       "      <td>5</td>\n",
       "    </tr>\n",
       "    <tr>\n",
       "      <th>1</th>\n",
       "      <td>14999.0</td>\n",
       "      <td>0</td>\n",
       "      <td>43</td>\n",
       "      <td>2</td>\n",
       "      <td>350</td>\n",
       "      <td>1.25</td>\n",
       "      <td>1</td>\n",
       "      <td>1</td>\n",
       "      <td>1</td>\n",
       "      <td>1</td>\n",
       "      <td>1</td>\n",
       "      <td>1</td>\n",
       "    </tr>\n",
       "    <tr>\n",
       "      <th>2</th>\n",
       "      <td>1342.0</td>\n",
       "      <td>12</td>\n",
       "      <td>45</td>\n",
       "      <td>2</td>\n",
       "      <td>250</td>\n",
       "      <td>1.75</td>\n",
       "      <td>1</td>\n",
       "      <td>6</td>\n",
       "      <td>1</td>\n",
       "      <td>0</td>\n",
       "      <td>0</td>\n",
       "      <td>5</td>\n",
       "    </tr>\n",
       "    <tr>\n",
       "      <th>3</th>\n",
       "      <td>1211.0</td>\n",
       "      <td>3</td>\n",
       "      <td>49</td>\n",
       "      <td>1</td>\n",
       "      <td>450</td>\n",
       "      <td>2.25</td>\n",
       "      <td>1</td>\n",
       "      <td>6</td>\n",
       "      <td>1</td>\n",
       "      <td>1</td>\n",
       "      <td>0</td>\n",
       "      <td>5</td>\n",
       "    </tr>\n",
       "    <tr>\n",
       "      <th>4</th>\n",
       "      <td>2430.0</td>\n",
       "      <td>7</td>\n",
       "      <td>44</td>\n",
       "      <td>2</td>\n",
       "      <td>250</td>\n",
       "      <td>1.75</td>\n",
       "      <td>1</td>\n",
       "      <td>6</td>\n",
       "      <td>1</td>\n",
       "      <td>0</td>\n",
       "      <td>0</td>\n",
       "      <td>4</td>\n",
       "    </tr>\n",
       "  </tbody>\n",
       "</table>\n",
       "</div>"
      ],
      "text/plain": [
       "     Fiyat  Marka  Kasa_capi  Garanti_suresi  Batarya_kapasitesi  \\\n",
       "0   3690.0      7         44               2                 250   \n",
       "1  14999.0      0         43               2                 350   \n",
       "2   1342.0     12         45               2                 250   \n",
       "3   1211.0      3         49               1                 450   \n",
       "4   2430.0      7         44               2                 250   \n",
       "\n",
       "   Ekran_boyutu  Sesli_gorusme  Renk  Titresim  GPS  Isletim_tipi  Kordon_renk  \n",
       "0          1.75              1     6         1    0             0            5  \n",
       "1          1.25              1     1         1    1             1            1  \n",
       "2          1.75              1     6         1    0             0            5  \n",
       "3          2.25              1     6         1    1             0            5  \n",
       "4          1.75              1     6         1    0             0            4  "
      ]
     },
     "execution_count": 3,
     "metadata": {},
     "output_type": "execute_result"
    }
   ],
   "source": [
    "dataset.head()"
   ]
  },
  {
   "cell_type": "code",
   "execution_count": 4,
   "id": "6ebaaba4",
   "metadata": {},
   "outputs": [],
   "source": [
    "x = dataset.iloc[:,1:].values\n",
    "y = dataset.iloc[:,0].values\n",
    "y = y.reshape(-1,1)"
   ]
  },
  {
   "cell_type": "code",
   "execution_count": 5,
   "id": "47e5c68d",
   "metadata": {},
   "outputs": [],
   "source": [
    "from sklearn.model_selection import train_test_split\n",
    "x_train, x_test, y_train, y_test = train_test_split(x, y, test_size = 0.2, random_state = 0)\n",
    "\n"
   ]
  },
  {
   "cell_type": "code",
   "execution_count": 6,
   "id": "9c935f4e",
   "metadata": {},
   "outputs": [],
   "source": [
    "x_train = pd.DataFrame(x_train).fillna(0).values\n",
    "y_train = pd.DataFrame(y_train).fillna(0).values"
   ]
  },
  {
   "cell_type": "code",
   "execution_count": 7,
   "id": "91c8f198",
   "metadata": {},
   "outputs": [
    {
     "name": "stderr",
     "output_type": "stream",
     "text": [
      "C:\\ProgramData\\anaconda3\\Lib\\site-packages\\sklearn\\ensemble\\_gb.py:424: DataConversionWarning: A column-vector y was passed when a 1d array was expected. Please change the shape of y to (n_samples, ), for example using ravel().\n",
      "  y = column_or_1d(y, warn=True)\n"
     ]
    }
   ],
   "source": [
    "from sklearn.ensemble import GradientBoostingRegressor\n",
    "regressor = GradientBoostingRegressor()\n",
    "regressor.fit(x_train, y_train)\n",
    "y_pred_gb = regressor.predict(x_test)\n",
    "\n"
   ]
  },
  {
   "cell_type": "code",
   "execution_count": 8,
   "id": "cbe451da",
   "metadata": {},
   "outputs": [],
   "source": [
    "from sklearn.metrics import r2_score\n",
    "GB_RSCORE = r2_score(y_test, y_pred_gb)"
   ]
  },
  {
   "cell_type": "code",
   "execution_count": 9,
   "id": "21d3a76e",
   "metadata": {},
   "outputs": [
    {
     "name": "stdout",
     "output_type": "stream",
     "text": [
      "0.9997981763665165\n"
     ]
    }
   ],
   "source": [
    "print(GB_RSCORE)"
   ]
  },
  {
   "cell_type": "code",
   "execution_count": 10,
   "id": "c3915bea",
   "metadata": {},
   "outputs": [
    {
     "data": {
      "text/plain": [
       "['C:\\\\Users\\\\user\\\\OneDrive - Manisa Celal Bayar Üniversitesi\\\\Masaüstü\\\\Beyza Yoldaş\\\\Algoritmalar\\\\akıllısaat_gradient_boosting_model.pkl']"
      ]
     },
     "execution_count": 10,
     "metadata": {},
     "output_type": "execute_result"
    }
   ],
   "source": [
    "import joblib\n",
    "joblib.dump(regressor, r\"C:\\Users\\user\\OneDrive - Manisa Celal Bayar Üniversitesi\\Masaüstü\\Beyza Yoldaş\\Algoritmalar\\akıllısaat_gradient_boosting_model.pkl\")"
   ]
  },
  {
   "cell_type": "code",
   "execution_count": null,
   "id": "e59572c2",
   "metadata": {},
   "outputs": [],
   "source": []
  }
 ],
 "metadata": {
  "kernelspec": {
   "display_name": "Python 3 (ipykernel)",
   "language": "python",
   "name": "python3"
  },
  "language_info": {
   "codemirror_mode": {
    "name": "ipython",
    "version": 3
   },
   "file_extension": ".py",
   "mimetype": "text/x-python",
   "name": "python",
   "nbconvert_exporter": "python",
   "pygments_lexer": "ipython3",
   "version": "3.11.5"
  }
 },
 "nbformat": 4,
 "nbformat_minor": 5
}
