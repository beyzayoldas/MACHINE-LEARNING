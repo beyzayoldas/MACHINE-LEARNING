{
 "cells": [
  {
   "cell_type": "code",
   "execution_count": 1,
   "id": "129b3241",
   "metadata": {},
   "outputs": [],
   "source": [
    "import pandas as pd\n",
    "import numpy as np\n",
    "import joblib"
   ]
  },
  {
   "cell_type": "code",
   "execution_count": 2,
   "id": "9d6c24de",
   "metadata": {},
   "outputs": [],
   "source": [
    "dt_model = joblib.load(r\"C:\\Users\\user\\OneDrive - Manisa Celal Bayar Üniversitesi\\Masaüstü\\Beyza Yoldaş\\Algoritmalar\\akıllısaat_decision_tree_model.pkl\")\n",
    "mlinear_model = joblib.load(r\"C:\\Users\\user\\OneDrive - Manisa Celal Bayar Üniversitesi\\Masaüstü\\Beyza Yoldaş\\Algoritmalar\\akıllısaat_multiple_linear_model.pkl\")\n",
    "rf_model = joblib.load(r\"C:\\Users\\user\\OneDrive - Manisa Celal Bayar Üniversitesi\\Masaüstü\\Beyza Yoldaş\\Algoritmalar\\akıllısaat_random_forest_model.pkl\")\n",
    "sv_model = joblib.load(r\"C:\\Users\\user\\OneDrive - Manisa Celal Bayar Üniversitesi\\Masaüstü\\Beyza Yoldaş\\Algoritmalar\\akıllısaat_support_vector_model.pkl\")\n",
    "lasso_model = joblib.load(r\"C:\\Users\\user\\OneDrive - Manisa Celal Bayar Üniversitesi\\Masaüstü\\Beyza Yoldaş\\Algoritmalar\\akıllısaat_lasso_regression_model.pkl\")\n",
    "ridge_model = joblib.load(r\"C:\\Users\\user\\OneDrive - Manisa Celal Bayar Üniversitesi\\Masaüstü\\Beyza Yoldaş\\Algoritmalar\\akıllısaat_ridge_regression_model.pkl\")\n",
    "gb_model = joblib.load(r\"C:\\Users\\user\\OneDrive - Manisa Celal Bayar Üniversitesi\\Masaüstü\\Beyza Yoldaş\\Algoritmalar\\akıllısaat_gradient_boosting_model.pkl\")"
   ]
  },
  {
   "cell_type": "code",
   "execution_count": 3,
   "id": "8397f605",
   "metadata": {
    "scrolled": true
   },
   "outputs": [
    {
     "data": {
      "text/html": [
       "<div>\n",
       "<style scoped>\n",
       "    .dataframe tbody tr th:only-of-type {\n",
       "        vertical-align: middle;\n",
       "    }\n",
       "\n",
       "    .dataframe tbody tr th {\n",
       "        vertical-align: top;\n",
       "    }\n",
       "\n",
       "    .dataframe thead th {\n",
       "        text-align: right;\n",
       "    }\n",
       "</style>\n",
       "<table border=\"1\" class=\"dataframe\">\n",
       "  <thead>\n",
       "    <tr style=\"text-align: right;\">\n",
       "      <th></th>\n",
       "      <th>Marka</th>\n",
       "    </tr>\n",
       "  </thead>\n",
       "  <tbody>\n",
       "    <tr>\n",
       "      <th>0</th>\n",
       "      <td>Apple</td>\n",
       "    </tr>\n",
       "    <tr>\n",
       "      <th>1</th>\n",
       "      <td>Foon</td>\n",
       "    </tr>\n",
       "    <tr>\n",
       "      <th>2</th>\n",
       "      <td>NewBlue</td>\n",
       "    </tr>\n",
       "    <tr>\n",
       "      <th>3</th>\n",
       "      <td>QAP</td>\n",
       "    </tr>\n",
       "    <tr>\n",
       "      <th>4</th>\n",
       "      <td>SEYUWATCH</td>\n",
       "    </tr>\n",
       "    <tr>\n",
       "      <th>5</th>\n",
       "      <td>SMARTEST</td>\n",
       "    </tr>\n",
       "    <tr>\n",
       "      <th>6</th>\n",
       "      <td>SeyuTech</td>\n",
       "    </tr>\n",
       "    <tr>\n",
       "      <th>7</th>\n",
       "      <td>TECHNOMEN</td>\n",
       "    </tr>\n",
       "    <tr>\n",
       "      <th>8</th>\n",
       "      <td>TEKNOHANE</td>\n",
       "    </tr>\n",
       "    <tr>\n",
       "      <th>9</th>\n",
       "      <td>Teknoloji Gelsin</td>\n",
       "    </tr>\n",
       "    <tr>\n",
       "      <th>10</th>\n",
       "      <td>Universal</td>\n",
       "    </tr>\n",
       "    <tr>\n",
       "      <th>11</th>\n",
       "      <td>Wyze</td>\n",
       "    </tr>\n",
       "    <tr>\n",
       "      <th>12</th>\n",
       "      <td>Xiaomi</td>\n",
       "    </tr>\n",
       "  </tbody>\n",
       "</table>\n",
       "</div>"
      ],
      "text/plain": [
       "               Marka\n",
       "0              Apple\n",
       "1               Foon\n",
       "2            NewBlue\n",
       "3                QAP\n",
       "4          SEYUWATCH\n",
       "5           SMARTEST\n",
       "6           SeyuTech\n",
       "7          TECHNOMEN\n",
       "8          TEKNOHANE\n",
       "9   Teknoloji Gelsin\n",
       "10         Universal\n",
       "11              Wyze\n",
       "12            Xiaomi"
      ]
     },
     "execution_count": 3,
     "metadata": {},
     "output_type": "execute_result"
    }
   ],
   "source": [
    "data = pd.read_csv(r'C:\\Users\\user\\OneDrive - Manisa Celal Bayar Üniversitesi\\Masaüstü\\Beyza Yoldaş\\Veri Toplama\\presentation.csv')\n",
    "Markalar=data[\"Marka\"].values\n",
    "Markalar=np.unique(Markalar)\n",
    "Markalar=pd.DataFrame(data=Markalar,columns=[\"Marka\"])\n",
    "Markalar"
   ]
  },
  {
   "cell_type": "code",
   "execution_count": 4,
   "id": "b79c971e",
   "metadata": {},
   "outputs": [],
   "source": [
    "def Marka_index(Marka):\n",
    "    index=int(Markalar[Markalar[\"Marka\"]==Marka].index.values)\n",
    "    return index\n",
    "\n",
    "\n"
   ]
  },
  {
   "cell_type": "code",
   "execution_count": 5,
   "id": "a402a8f2",
   "metadata": {},
   "outputs": [],
   "source": [
    "def Isletim_tipi(Isletim_tipi):\n",
    "    if Isletim_tipi == \"iOS\":\n",
    "        return 1\n",
    "    else:\n",
    "        return 0"
   ]
  },
  {
   "cell_type": "code",
   "execution_count": 6,
   "id": "86e60668",
   "metadata": {},
   "outputs": [
    {
     "data": {
      "text/html": [
       "<div>\n",
       "<style scoped>\n",
       "    .dataframe tbody tr th:only-of-type {\n",
       "        vertical-align: middle;\n",
       "    }\n",
       "\n",
       "    .dataframe tbody tr th {\n",
       "        vertical-align: top;\n",
       "    }\n",
       "\n",
       "    .dataframe thead th {\n",
       "        text-align: right;\n",
       "    }\n",
       "</style>\n",
       "<table border=\"1\" class=\"dataframe\">\n",
       "  <thead>\n",
       "    <tr style=\"text-align: right;\">\n",
       "      <th></th>\n",
       "      <th>Renk</th>\n",
       "    </tr>\n",
       "  </thead>\n",
       "  <tbody>\n",
       "    <tr>\n",
       "      <th>0</th>\n",
       "      <td>Bej</td>\n",
       "    </tr>\n",
       "    <tr>\n",
       "      <th>1</th>\n",
       "      <td>Beyaz</td>\n",
       "    </tr>\n",
       "    <tr>\n",
       "      <th>2</th>\n",
       "      <td>Gri</td>\n",
       "    </tr>\n",
       "    <tr>\n",
       "      <th>3</th>\n",
       "      <td>Gümüş</td>\n",
       "    </tr>\n",
       "    <tr>\n",
       "      <th>4</th>\n",
       "      <td>Metalik</td>\n",
       "    </tr>\n",
       "    <tr>\n",
       "      <th>5</th>\n",
       "      <td>Pembe</td>\n",
       "    </tr>\n",
       "    <tr>\n",
       "      <th>6</th>\n",
       "      <td>Siyah</td>\n",
       "    </tr>\n",
       "    <tr>\n",
       "      <th>7</th>\n",
       "      <td>Turuncu</td>\n",
       "    </tr>\n",
       "  </tbody>\n",
       "</table>\n",
       "</div>"
      ],
      "text/plain": [
       "      Renk\n",
       "0      Bej\n",
       "1    Beyaz\n",
       "2      Gri\n",
       "3    Gümüş\n",
       "4  Metalik\n",
       "5    Pembe\n",
       "6    Siyah\n",
       "7  Turuncu"
      ]
     },
     "execution_count": 6,
     "metadata": {},
     "output_type": "execute_result"
    }
   ],
   "source": [
    "data = pd.read_csv(r'C:\\Users\\user\\OneDrive - Manisa Celal Bayar Üniversitesi\\Masaüstü\\Beyza Yoldaş\\Veri Toplama\\presentation.csv')\n",
    "Renkler=data[\"Renk\"].values\n",
    "Renkler=np.unique(Renkler)\n",
    "Renkler=pd.DataFrame(data=Renkler,columns=[\"Renk\"])\n",
    "Renkler"
   ]
  },
  {
   "cell_type": "code",
   "execution_count": 7,
   "id": "aa1593db",
   "metadata": {},
   "outputs": [],
   "source": [
    "def Renk_index(Renk):\n",
    "    index=int(Renkler[Renkler[\"Renk\"]==Renk].index.values)\n",
    "    return index"
   ]
  },
  {
   "cell_type": "code",
   "execution_count": 8,
   "id": "d20620b2",
   "metadata": {},
   "outputs": [
    {
     "data": {
      "text/html": [
       "<div>\n",
       "<style scoped>\n",
       "    .dataframe tbody tr th:only-of-type {\n",
       "        vertical-align: middle;\n",
       "    }\n",
       "\n",
       "    .dataframe tbody tr th {\n",
       "        vertical-align: top;\n",
       "    }\n",
       "\n",
       "    .dataframe thead th {\n",
       "        text-align: right;\n",
       "    }\n",
       "</style>\n",
       "<table border=\"1\" class=\"dataframe\">\n",
       "  <thead>\n",
       "    <tr style=\"text-align: right;\">\n",
       "      <th></th>\n",
       "      <th>Kordon_renk</th>\n",
       "    </tr>\n",
       "  </thead>\n",
       "  <tbody>\n",
       "    <tr>\n",
       "      <th>0</th>\n",
       "      <td>Bej</td>\n",
       "    </tr>\n",
       "    <tr>\n",
       "      <th>1</th>\n",
       "      <td>Beyaz</td>\n",
       "    </tr>\n",
       "    <tr>\n",
       "      <th>2</th>\n",
       "      <td>Gri</td>\n",
       "    </tr>\n",
       "    <tr>\n",
       "      <th>3</th>\n",
       "      <td>Mavi</td>\n",
       "    </tr>\n",
       "    <tr>\n",
       "      <th>4</th>\n",
       "      <td>Pembe</td>\n",
       "    </tr>\n",
       "    <tr>\n",
       "      <th>5</th>\n",
       "      <td>Siyah</td>\n",
       "    </tr>\n",
       "    <tr>\n",
       "      <th>6</th>\n",
       "      <td>Turuncu</td>\n",
       "    </tr>\n",
       "    <tr>\n",
       "      <th>7</th>\n",
       "      <td>Çok Renkli</td>\n",
       "    </tr>\n",
       "  </tbody>\n",
       "</table>\n",
       "</div>"
      ],
      "text/plain": [
       "  Kordon_renk\n",
       "0         Bej\n",
       "1       Beyaz\n",
       "2         Gri\n",
       "3        Mavi\n",
       "4       Pembe\n",
       "5       Siyah\n",
       "6     Turuncu\n",
       "7  Çok Renkli"
      ]
     },
     "execution_count": 8,
     "metadata": {},
     "output_type": "execute_result"
    }
   ],
   "source": [
    "data = pd.read_csv(r'C:\\Users\\user\\OneDrive - Manisa Celal Bayar Üniversitesi\\Masaüstü\\Beyza Yoldaş\\Veri Toplama\\presentation.csv')\n",
    "Kordon_renkleri=data[\"Kordon_renk\"].values\n",
    "Kordon_renkleri=np.unique(Kordon_renkleri)\n",
    "Kordon_renkleri=pd.DataFrame(data=Kordon_renkleri,columns=[\"Kordon_renk\"])\n",
    "Kordon_renkleri"
   ]
  },
  {
   "cell_type": "code",
   "execution_count": 9,
   "id": "6ded64fa",
   "metadata": {},
   "outputs": [],
   "source": [
    "def Kordon_renk_index(Kordon_renk):\n",
    "    index=int(Kordon_renkleri[Kordon_renkleri[\"Kordon_renk\"]==Kordon_renk].index.values)\n",
    "    return index"
   ]
  },
  {
   "cell_type": "code",
   "execution_count": 10,
   "id": "826a1dd7",
   "metadata": {},
   "outputs": [],
   "source": [
    "def Sesli_gorusme(Sesli_gorusme):\n",
    "    if Sesli_gorusme ==\"Yok\":\n",
    "        return 0\n",
    "    else:\n",
    "        return 1"
   ]
  },
  {
   "cell_type": "code",
   "execution_count": 11,
   "id": "87df5b77",
   "metadata": {},
   "outputs": [],
   "source": [
    "def GPS(GPS):\n",
    "    if GPS ==\"Yok\":\n",
    "        return 0\n",
    "    else:\n",
    "        return 1"
   ]
  },
  {
   "cell_type": "code",
   "execution_count": 12,
   "id": "b6f95d41",
   "metadata": {},
   "outputs": [],
   "source": [
    "def Titresim(Titresim):\n",
    "    if Titresim ==\"Yok\":\n",
    "        return 0\n",
    "    else:\n",
    "        return 1"
   ]
  },
  {
   "cell_type": "code",
   "execution_count": 13,
   "id": "5e559ff6",
   "metadata": {},
   "outputs": [],
   "source": [
    "def Garanti(garanti):\n",
    "    if garanti == \"6 Ay\":\n",
    "        return 0 \n",
    "    if garanti == \"1 Yıl\":\n",
    "        return 1\n",
    "    if garanti == \"2 Yıl\":\n",
    "        return 2\n",
    "    else:\n",
    "        return 0"
   ]
  },
  {
   "cell_type": "code",
   "execution_count": 14,
   "id": "02e46624",
   "metadata": {},
   "outputs": [],
   "source": [
    "def create_prediction_value(Marka,\n",
    "                            Kasa_capi,\n",
    "                            Garanti_suresi,\n",
    "                            Batarya_kapasitesi,\n",
    "                            Ekran_boyutu,\n",
    "                            Sesli_gorusme,\n",
    "                            Renk,\n",
    "                            Titresim,\n",
    "                            GPS,\n",
    "                            Isletim_tipi,\n",
    "                            Kordon_renk):\n",
    "    res = pd.DataFrame(data = \n",
    "            {'Marka':[Marka],\n",
    "             'Kasa_capi':[Kasa_capi],\n",
    "             'Garanti_suresi':[Garanti_suresi],\n",
    "             'Batarya_kapasitesi':[Batarya_kapasitesi],\n",
    "             'Ekran_boyutu':[Ekran_boyutu],\n",
    "             'Sesli_gorusme':[Sesli_gorusme],\n",
    "             'Renk':[Renk],\n",
    "             'Titresim':[Titresim],\n",
    "             'GPS':[GPS],\n",
    "             'Isletim_tipi':[Isletim_tipi],\n",
    "             'Kordon_renk':[Kordon_renk]})\n",
    "    return res"
   ]
  },
  {
   "cell_type": "code",
   "execution_count": 15,
   "id": "6e9d0408",
   "metadata": {},
   "outputs": [],
   "source": [
    "def predict_models(res):\n",
    "    print(\"Decision Tree Result : \"+ str(float(dt_model.predict(res)[0])) +\" TL\" )\n",
    "    print(\"Multiple Linear Result : \"+ str(float(mlinear_model.predict(res)[0])) +\" TL\" )\n",
    "    print(\"Random Forest Result : \"+ str(float(rf_model.predict(res)[0])) +\" TL\" )\n",
    "    print(\"Support Vector Result : \"+ str(float(sv_model.predict(res)[0])) +\" TL\" )\n",
    "    print(\"Lasso Forest Result : \"+ str(float(lasso_model.predict(res)[0])) +\" TL\" )\n",
    "    print(\"Ridge Result : \"+ str(float(ridge_model.predict(res)[0])) +\" TL\" )  \n",
    "    print(\"Gradient Boosting Result : \"+ str(float(gb_model.predict(res)[0])) +\" TL\" )\n"
   ]
  },
  {
   "cell_type": "code",
   "execution_count": 16,
   "id": "828608e2",
   "metadata": {
    "scrolled": true
   },
   "outputs": [
    {
     "name": "stdout",
     "output_type": "stream",
     "text": [
      "Decision Tree Result : 14999.0 TL\n",
      "Multiple Linear Result : 23882.373616403052 TL\n",
      "Random Forest Result : 14999.0 TL\n",
      "Support Vector Result : 2435.2890187765265 TL\n",
      "Lasso Forest Result : 23872.337772471146 TL\n",
      "Ridge Result : 23788.40195737283 TL\n",
      "Gradient Boosting Result : 14989.026864524563 TL\n"
     ]
    },
    {
     "name": "stderr",
     "output_type": "stream",
     "text": [
      "C:\\ProgramData\\anaconda3\\Lib\\site-packages\\sklearn\\base.py:457: UserWarning: X has feature names, but DecisionTreeRegressor was fitted without feature names\n",
      "  warnings.warn(\n",
      "C:\\ProgramData\\anaconda3\\Lib\\site-packages\\sklearn\\base.py:457: UserWarning: X has feature names, but LinearRegression was fitted without feature names\n",
      "  warnings.warn(\n",
      "C:\\ProgramData\\anaconda3\\Lib\\site-packages\\sklearn\\base.py:457: UserWarning: X has feature names, but RandomForestRegressor was fitted without feature names\n",
      "  warnings.warn(\n",
      "C:\\ProgramData\\anaconda3\\Lib\\site-packages\\sklearn\\base.py:457: UserWarning: X has feature names, but SVR was fitted without feature names\n",
      "  warnings.warn(\n",
      "C:\\ProgramData\\anaconda3\\Lib\\site-packages\\sklearn\\base.py:457: UserWarning: X has feature names, but Lasso was fitted without feature names\n",
      "  warnings.warn(\n",
      "C:\\ProgramData\\anaconda3\\Lib\\site-packages\\sklearn\\base.py:457: UserWarning: X has feature names, but Ridge was fitted without feature names\n",
      "  warnings.warn(\n",
      "C:\\ProgramData\\anaconda3\\Lib\\site-packages\\sklearn\\base.py:457: UserWarning: X has feature names, but GradientBoostingRegressor was fitted without feature names\n",
      "  warnings.warn(\n"
     ]
    }
   ],
   "source": [
    "predict_value= create_prediction_value(Marka_index('Apple'),43.0,Garanti(\"2 Yıl\"),350.0,1.25,Sesli_gorusme(\"Var\"),Renk_index(\"Beyaz\"),Titresim(\"Var\"),GPS(\"Var\"),Isletim_tipi(\"iOS\"),Kordon_renk_index(\"Beyaz\"))\n",
    "predict_models(predict_value)"
   ]
  },
  {
   "cell_type": "code",
   "execution_count": null,
   "id": "fc36b63f",
   "metadata": {},
   "outputs": [],
   "source": []
  }
 ],
 "metadata": {
  "kernelspec": {
   "display_name": "Python 3 (ipykernel)",
   "language": "python",
   "name": "python3"
  },
  "language_info": {
   "codemirror_mode": {
    "name": "ipython",
    "version": 3
   },
   "file_extension": ".py",
   "mimetype": "text/x-python",
   "name": "python",
   "nbconvert_exporter": "python",
   "pygments_lexer": "ipython3",
   "version": "3.11.5"
  }
 },
 "nbformat": 4,
 "nbformat_minor": 5
}
