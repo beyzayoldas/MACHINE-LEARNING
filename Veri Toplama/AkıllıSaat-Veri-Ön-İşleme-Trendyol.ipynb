{
 "cells": [
  {
   "cell_type": "code",
   "execution_count": 1,
   "id": "222aebf4",
   "metadata": {},
   "outputs": [],
   "source": [
    "import pandas as pd\n",
    "import numpy as np"
   ]
  },
  {
   "cell_type": "code",
   "execution_count": 2,
   "id": "c2f39969",
   "metadata": {},
   "outputs": [],
   "source": [
    "data = pd.read_excel(r'C:\\Users\\user\\OneDrive - Manisa Celal Bayar Üniversitesi\\Masaüstü\\Beyza Yoldaş\\Veri Toplama\\Saat Veri Toplama Analiz.xlsx')"
   ]
  },
  {
   "cell_type": "code",
   "execution_count": 3,
   "id": "7e9cb9a0",
   "metadata": {},
   "outputs": [],
   "source": [
    "df = pd.DataFrame()"
   ]
  },
  {
   "cell_type": "code",
   "execution_count": 4,
   "id": "84425393",
   "metadata": {},
   "outputs": [
    {
     "data": {
      "text/html": [
       "<div>\n",
       "<style scoped>\n",
       "    .dataframe tbody tr th:only-of-type {\n",
       "        vertical-align: middle;\n",
       "    }\n",
       "\n",
       "    .dataframe tbody tr th {\n",
       "        vertical-align: top;\n",
       "    }\n",
       "\n",
       "    .dataframe thead th {\n",
       "        text-align: right;\n",
       "    }\n",
       "</style>\n",
       "<table border=\"1\" class=\"dataframe\">\n",
       "  <thead>\n",
       "    <tr style=\"text-align: right;\">\n",
       "      <th></th>\n",
       "      <th>Adımsayar</th>\n",
       "      <th>Batarya_kapasitesi_araligi</th>\n",
       "      <th>Ekran_boyut_araligi</th>\n",
       "      <th>GPS</th>\n",
       "      <th>Garanti_suresi</th>\n",
       "      <th>Garanti Tipi</th>\n",
       "      <th>Kasa Renk</th>\n",
       "      <th>Kasa_capi</th>\n",
       "      <th>Kordon Renk</th>\n",
       "      <th>Nabız Sensörü</th>\n",
       "      <th>Renk</th>\n",
       "      <th>Sesli Görüşme</th>\n",
       "      <th>Suya/Toza Dayanıklılık</th>\n",
       "      <th>Titreşim</th>\n",
       "      <th>Uyku Takibi</th>\n",
       "      <th>İşletim Tipi</th>\n",
       "      <th>brand</th>\n",
       "      <th>url</th>\n",
       "      <th>price</th>\n",
       "    </tr>\n",
       "  </thead>\n",
       "  <tbody>\n",
       "    <tr>\n",
       "      <th>0</th>\n",
       "      <td>Var</td>\n",
       "      <td>250.0</td>\n",
       "      <td>1.75</td>\n",
       "      <td>Yok</td>\n",
       "      <td>2</td>\n",
       "      <td>İthalatçı Garantili</td>\n",
       "      <td>Pembe</td>\n",
       "      <td>44.0</td>\n",
       "      <td>Siyah</td>\n",
       "      <td>Var</td>\n",
       "      <td>Siyah</td>\n",
       "      <td>Var</td>\n",
       "      <td>Var</td>\n",
       "      <td>Var</td>\n",
       "      <td>Var</td>\n",
       "      <td>Android</td>\n",
       "      <td>TECHNOMEN</td>\n",
       "      <td>https://www.trendyol.com//technomen/akilli-saa...</td>\n",
       "      <td>3690</td>\n",
       "    </tr>\n",
       "    <tr>\n",
       "      <th>1</th>\n",
       "      <td>Var</td>\n",
       "      <td>350.0</td>\n",
       "      <td>1.25</td>\n",
       "      <td>Var</td>\n",
       "      <td>2</td>\n",
       "      <td>Apple Türkiye Garantili</td>\n",
       "      <td>Beyaz</td>\n",
       "      <td>43.0</td>\n",
       "      <td>Beyaz</td>\n",
       "      <td>Var</td>\n",
       "      <td>Beyaz</td>\n",
       "      <td>Var</td>\n",
       "      <td>Var</td>\n",
       "      <td>Var</td>\n",
       "      <td>Var</td>\n",
       "      <td>iOS</td>\n",
       "      <td>Apple</td>\n",
       "      <td>https://www.trendyol.com//apple/watch-se-2-gps...</td>\n",
       "      <td>14999</td>\n",
       "    </tr>\n",
       "    <tr>\n",
       "      <th>2</th>\n",
       "      <td>Var</td>\n",
       "      <td>250.0</td>\n",
       "      <td>1.75</td>\n",
       "      <td>Yok</td>\n",
       "      <td>2</td>\n",
       "      <td>Resmi Distribütör Garantili</td>\n",
       "      <td>Siyah</td>\n",
       "      <td>45.0</td>\n",
       "      <td>Siyah</td>\n",
       "      <td>Var</td>\n",
       "      <td>Siyah</td>\n",
       "      <td>Var</td>\n",
       "      <td>Var</td>\n",
       "      <td>Var</td>\n",
       "      <td>Var</td>\n",
       "      <td>Android + iOS</td>\n",
       "      <td>Xiaomi</td>\n",
       "      <td>https://www.trendyol.com//xiaomi/redmi-watch-3...</td>\n",
       "      <td>1342</td>\n",
       "    </tr>\n",
       "    <tr>\n",
       "      <th>3</th>\n",
       "      <td>Var</td>\n",
       "      <td>450.0</td>\n",
       "      <td>2.25</td>\n",
       "      <td>Var</td>\n",
       "      <td>1</td>\n",
       "      <td>İthalatçı Garantili</td>\n",
       "      <td>Siyah</td>\n",
       "      <td>49.0</td>\n",
       "      <td>Siyah</td>\n",
       "      <td>Var</td>\n",
       "      <td>Siyah</td>\n",
       "      <td>Var</td>\n",
       "      <td>Var</td>\n",
       "      <td>Var</td>\n",
       "      <td>Var</td>\n",
       "      <td>Android + iOS</td>\n",
       "      <td>QAP</td>\n",
       "      <td>https://www.trendyol.com//qap/ultra-plus-2-wat...</td>\n",
       "      <td>1211</td>\n",
       "    </tr>\n",
       "    <tr>\n",
       "      <th>4</th>\n",
       "      <td>Var</td>\n",
       "      <td>250.0</td>\n",
       "      <td>1.75</td>\n",
       "      <td>Yok</td>\n",
       "      <td>2</td>\n",
       "      <td>İthalatçı Garantili</td>\n",
       "      <td>Rose Gold</td>\n",
       "      <td>44.0</td>\n",
       "      <td>Pembe</td>\n",
       "      <td>Var</td>\n",
       "      <td>Siyah</td>\n",
       "      <td>Var</td>\n",
       "      <td>Var</td>\n",
       "      <td>Var</td>\n",
       "      <td>Var</td>\n",
       "      <td>Android + iOS</td>\n",
       "      <td>TECHNOMEN</td>\n",
       "      <td>https://www.trendyol.com//technomen/akilli-saa...</td>\n",
       "      <td>2430</td>\n",
       "    </tr>\n",
       "  </tbody>\n",
       "</table>\n",
       "</div>"
      ],
      "text/plain": [
       "  Adımsayar  Batarya_kapasitesi_araligi  Ekran_boyut_araligi  GPS  \\\n",
       "0       Var                       250.0                 1.75  Yok   \n",
       "1       Var                       350.0                 1.25  Var   \n",
       "2       Var                       250.0                 1.75  Yok   \n",
       "3       Var                       450.0                 2.25  Var   \n",
       "4       Var                       250.0                 1.75  Yok   \n",
       "\n",
       "   Garanti_suresi                 Garanti Tipi  Kasa Renk  Kasa_capi  \\\n",
       "0               2          İthalatçı Garantili      Pembe       44.0   \n",
       "1               2      Apple Türkiye Garantili      Beyaz       43.0   \n",
       "2               2  Resmi Distribütör Garantili      Siyah       45.0   \n",
       "3               1          İthalatçı Garantili      Siyah       49.0   \n",
       "4               2          İthalatçı Garantili  Rose Gold       44.0   \n",
       "\n",
       "  Kordon Renk Nabız Sensörü   Renk Sesli Görüşme Suya/Toza Dayanıklılık  \\\n",
       "0       Siyah           Var  Siyah           Var                    Var   \n",
       "1       Beyaz           Var  Beyaz           Var                    Var   \n",
       "2       Siyah           Var  Siyah           Var                    Var   \n",
       "3       Siyah           Var  Siyah           Var                    Var   \n",
       "4       Pembe           Var  Siyah           Var                    Var   \n",
       "\n",
       "  Titreşim Uyku Takibi   İşletim Tipi      brand  \\\n",
       "0      Var         Var        Android  TECHNOMEN   \n",
       "1      Var         Var            iOS      Apple   \n",
       "2      Var         Var  Android + iOS     Xiaomi   \n",
       "3      Var         Var  Android + iOS        QAP   \n",
       "4      Var         Var  Android + iOS  TECHNOMEN   \n",
       "\n",
       "                                                 url  price  \n",
       "0  https://www.trendyol.com//technomen/akilli-saa...   3690  \n",
       "1  https://www.trendyol.com//apple/watch-se-2-gps...  14999  \n",
       "2  https://www.trendyol.com//xiaomi/redmi-watch-3...   1342  \n",
       "3  https://www.trendyol.com//qap/ultra-plus-2-wat...   1211  \n",
       "4  https://www.trendyol.com//technomen/akilli-saa...   2430  "
      ]
     },
     "execution_count": 4,
     "metadata": {},
     "output_type": "execute_result"
    }
   ],
   "source": [
    "data.head()"
   ]
  },
  {
   "cell_type": "code",
   "execution_count": 5,
   "id": "90f64504",
   "metadata": {},
   "outputs": [],
   "source": [
    "df['Fiyat']=data['price']\n",
    "df['Marka']=data['brand']\n",
    "df['Kasa_capi']=data['Kasa_capi']\n",
    "df['Garanti_suresi']=data['Garanti_suresi']\n",
    "df['Batarya_kapasitesi']=data['Batarya_kapasitesi_araligi']\n",
    "df['Ekran_boyutu']=data['Ekran_boyut_araligi']\n",
    "df['Sesli_gorusme']=data['Sesli Görüşme']\n",
    "df['Renk']=data['Renk']\n",
    "df['Titresim']=data['Titreşim']\n",
    "df['GPS']=data['GPS']\n",
    "df['Isletim_tipi']=data['İşletim Tipi']\n",
    "df['Kordon_renk']=data['Kordon Renk']\n",
    "\n"
   ]
  },
  {
   "cell_type": "code",
   "execution_count": 6,
   "id": "b4be6386",
   "metadata": {},
   "outputs": [
    {
     "data": {
      "text/html": [
       "<div>\n",
       "<style scoped>\n",
       "    .dataframe tbody tr th:only-of-type {\n",
       "        vertical-align: middle;\n",
       "    }\n",
       "\n",
       "    .dataframe tbody tr th {\n",
       "        vertical-align: top;\n",
       "    }\n",
       "\n",
       "    .dataframe thead th {\n",
       "        text-align: right;\n",
       "    }\n",
       "</style>\n",
       "<table border=\"1\" class=\"dataframe\">\n",
       "  <thead>\n",
       "    <tr style=\"text-align: right;\">\n",
       "      <th></th>\n",
       "      <th>Fiyat</th>\n",
       "      <th>Marka</th>\n",
       "      <th>Kasa_capi</th>\n",
       "      <th>Garanti_suresi</th>\n",
       "      <th>Batarya_kapasitesi</th>\n",
       "      <th>Ekran_boyutu</th>\n",
       "      <th>Sesli_gorusme</th>\n",
       "      <th>Renk</th>\n",
       "      <th>Titresim</th>\n",
       "      <th>GPS</th>\n",
       "      <th>Isletim_tipi</th>\n",
       "      <th>Kordon_renk</th>\n",
       "    </tr>\n",
       "  </thead>\n",
       "  <tbody>\n",
       "    <tr>\n",
       "      <th>0</th>\n",
       "      <td>3690</td>\n",
       "      <td>TECHNOMEN</td>\n",
       "      <td>44.0</td>\n",
       "      <td>2</td>\n",
       "      <td>250.0</td>\n",
       "      <td>1.75</td>\n",
       "      <td>Var</td>\n",
       "      <td>Siyah</td>\n",
       "      <td>Var</td>\n",
       "      <td>Yok</td>\n",
       "      <td>Android</td>\n",
       "      <td>Siyah</td>\n",
       "    </tr>\n",
       "    <tr>\n",
       "      <th>1</th>\n",
       "      <td>14999</td>\n",
       "      <td>Apple</td>\n",
       "      <td>43.0</td>\n",
       "      <td>2</td>\n",
       "      <td>350.0</td>\n",
       "      <td>1.25</td>\n",
       "      <td>Var</td>\n",
       "      <td>Beyaz</td>\n",
       "      <td>Var</td>\n",
       "      <td>Var</td>\n",
       "      <td>iOS</td>\n",
       "      <td>Beyaz</td>\n",
       "    </tr>\n",
       "    <tr>\n",
       "      <th>2</th>\n",
       "      <td>1342</td>\n",
       "      <td>Xiaomi</td>\n",
       "      <td>45.0</td>\n",
       "      <td>2</td>\n",
       "      <td>250.0</td>\n",
       "      <td>1.75</td>\n",
       "      <td>Var</td>\n",
       "      <td>Siyah</td>\n",
       "      <td>Var</td>\n",
       "      <td>Yok</td>\n",
       "      <td>Android + iOS</td>\n",
       "      <td>Siyah</td>\n",
       "    </tr>\n",
       "    <tr>\n",
       "      <th>3</th>\n",
       "      <td>1211</td>\n",
       "      <td>QAP</td>\n",
       "      <td>49.0</td>\n",
       "      <td>1</td>\n",
       "      <td>450.0</td>\n",
       "      <td>2.25</td>\n",
       "      <td>Var</td>\n",
       "      <td>Siyah</td>\n",
       "      <td>Var</td>\n",
       "      <td>Var</td>\n",
       "      <td>Android + iOS</td>\n",
       "      <td>Siyah</td>\n",
       "    </tr>\n",
       "    <tr>\n",
       "      <th>4</th>\n",
       "      <td>2430</td>\n",
       "      <td>TECHNOMEN</td>\n",
       "      <td>44.0</td>\n",
       "      <td>2</td>\n",
       "      <td>250.0</td>\n",
       "      <td>1.75</td>\n",
       "      <td>Var</td>\n",
       "      <td>Siyah</td>\n",
       "      <td>Var</td>\n",
       "      <td>Yok</td>\n",
       "      <td>Android + iOS</td>\n",
       "      <td>Pembe</td>\n",
       "    </tr>\n",
       "  </tbody>\n",
       "</table>\n",
       "</div>"
      ],
      "text/plain": [
       "   Fiyat      Marka  Kasa_capi  Garanti_suresi  Batarya_kapasitesi  \\\n",
       "0   3690  TECHNOMEN       44.0               2               250.0   \n",
       "1  14999      Apple       43.0               2               350.0   \n",
       "2   1342     Xiaomi       45.0               2               250.0   \n",
       "3   1211        QAP       49.0               1               450.0   \n",
       "4   2430  TECHNOMEN       44.0               2               250.0   \n",
       "\n",
       "   Ekran_boyutu Sesli_gorusme   Renk Titresim  GPS   Isletim_tipi Kordon_renk  \n",
       "0          1.75           Var  Siyah      Var  Yok        Android       Siyah  \n",
       "1          1.25           Var  Beyaz      Var  Var            iOS       Beyaz  \n",
       "2          1.75           Var  Siyah      Var  Yok  Android + iOS       Siyah  \n",
       "3          2.25           Var  Siyah      Var  Var  Android + iOS       Siyah  \n",
       "4          1.75           Var  Siyah      Var  Yok  Android + iOS       Pembe  "
      ]
     },
     "execution_count": 6,
     "metadata": {},
     "output_type": "execute_result"
    }
   ],
   "source": [
    "df.head()"
   ]
  },
  {
   "cell_type": "code",
   "execution_count": 7,
   "id": "91257576",
   "metadata": {},
   "outputs": [],
   "source": [
    "for i in range(0,100):\n",
    "    df['Fiyat'] = df['Fiyat'].replace('[^\\d.]', '', regex=True).astype(float)\n",
    "\n"
   ]
  },
  {
   "cell_type": "code",
   "execution_count": 8,
   "id": "c56e3abb",
   "metadata": {},
   "outputs": [
    {
     "data": {
      "text/html": [
       "<div>\n",
       "<style scoped>\n",
       "    .dataframe tbody tr th:only-of-type {\n",
       "        vertical-align: middle;\n",
       "    }\n",
       "\n",
       "    .dataframe tbody tr th {\n",
       "        vertical-align: top;\n",
       "    }\n",
       "\n",
       "    .dataframe thead th {\n",
       "        text-align: right;\n",
       "    }\n",
       "</style>\n",
       "<table border=\"1\" class=\"dataframe\">\n",
       "  <thead>\n",
       "    <tr style=\"text-align: right;\">\n",
       "      <th></th>\n",
       "      <th>Fiyat</th>\n",
       "      <th>Marka</th>\n",
       "      <th>Kasa_capi</th>\n",
       "      <th>Garanti_suresi</th>\n",
       "      <th>Batarya_kapasitesi</th>\n",
       "      <th>Ekran_boyutu</th>\n",
       "      <th>Sesli_gorusme</th>\n",
       "      <th>Renk</th>\n",
       "      <th>Titresim</th>\n",
       "      <th>GPS</th>\n",
       "      <th>Isletim_tipi</th>\n",
       "      <th>Kordon_renk</th>\n",
       "    </tr>\n",
       "  </thead>\n",
       "  <tbody>\n",
       "    <tr>\n",
       "      <th>0</th>\n",
       "      <td>3690.0</td>\n",
       "      <td>TECHNOMEN</td>\n",
       "      <td>44.0</td>\n",
       "      <td>2</td>\n",
       "      <td>250.0</td>\n",
       "      <td>1.75</td>\n",
       "      <td>Var</td>\n",
       "      <td>Siyah</td>\n",
       "      <td>Var</td>\n",
       "      <td>Yok</td>\n",
       "      <td>Android</td>\n",
       "      <td>Siyah</td>\n",
       "    </tr>\n",
       "    <tr>\n",
       "      <th>1</th>\n",
       "      <td>14999.0</td>\n",
       "      <td>Apple</td>\n",
       "      <td>43.0</td>\n",
       "      <td>2</td>\n",
       "      <td>350.0</td>\n",
       "      <td>1.25</td>\n",
       "      <td>Var</td>\n",
       "      <td>Beyaz</td>\n",
       "      <td>Var</td>\n",
       "      <td>Var</td>\n",
       "      <td>iOS</td>\n",
       "      <td>Beyaz</td>\n",
       "    </tr>\n",
       "    <tr>\n",
       "      <th>2</th>\n",
       "      <td>1342.0</td>\n",
       "      <td>Xiaomi</td>\n",
       "      <td>45.0</td>\n",
       "      <td>2</td>\n",
       "      <td>250.0</td>\n",
       "      <td>1.75</td>\n",
       "      <td>Var</td>\n",
       "      <td>Siyah</td>\n",
       "      <td>Var</td>\n",
       "      <td>Yok</td>\n",
       "      <td>Android + iOS</td>\n",
       "      <td>Siyah</td>\n",
       "    </tr>\n",
       "    <tr>\n",
       "      <th>3</th>\n",
       "      <td>1211.0</td>\n",
       "      <td>QAP</td>\n",
       "      <td>49.0</td>\n",
       "      <td>1</td>\n",
       "      <td>450.0</td>\n",
       "      <td>2.25</td>\n",
       "      <td>Var</td>\n",
       "      <td>Siyah</td>\n",
       "      <td>Var</td>\n",
       "      <td>Var</td>\n",
       "      <td>Android + iOS</td>\n",
       "      <td>Siyah</td>\n",
       "    </tr>\n",
       "    <tr>\n",
       "      <th>4</th>\n",
       "      <td>2430.0</td>\n",
       "      <td>TECHNOMEN</td>\n",
       "      <td>44.0</td>\n",
       "      <td>2</td>\n",
       "      <td>250.0</td>\n",
       "      <td>1.75</td>\n",
       "      <td>Var</td>\n",
       "      <td>Siyah</td>\n",
       "      <td>Var</td>\n",
       "      <td>Yok</td>\n",
       "      <td>Android + iOS</td>\n",
       "      <td>Pembe</td>\n",
       "    </tr>\n",
       "    <tr>\n",
       "      <th>...</th>\n",
       "      <td>...</td>\n",
       "      <td>...</td>\n",
       "      <td>...</td>\n",
       "      <td>...</td>\n",
       "      <td>...</td>\n",
       "      <td>...</td>\n",
       "      <td>...</td>\n",
       "      <td>...</td>\n",
       "      <td>...</td>\n",
       "      <td>...</td>\n",
       "      <td>...</td>\n",
       "      <td>...</td>\n",
       "    </tr>\n",
       "    <tr>\n",
       "      <th>625</th>\n",
       "      <td>1334.0</td>\n",
       "      <td>QAP</td>\n",
       "      <td>41.0</td>\n",
       "      <td>1</td>\n",
       "      <td>350.0</td>\n",
       "      <td>1.75</td>\n",
       "      <td>Var</td>\n",
       "      <td>Gri</td>\n",
       "      <td>Var</td>\n",
       "      <td>Var</td>\n",
       "      <td>Android + iOS</td>\n",
       "      <td>Gri</td>\n",
       "    </tr>\n",
       "    <tr>\n",
       "      <th>626</th>\n",
       "      <td>6590.0</td>\n",
       "      <td>TECHNOMEN</td>\n",
       "      <td>44.0</td>\n",
       "      <td>2</td>\n",
       "      <td>1500.0</td>\n",
       "      <td>1.75</td>\n",
       "      <td>Var</td>\n",
       "      <td>Siyah</td>\n",
       "      <td>Var</td>\n",
       "      <td>Var</td>\n",
       "      <td>Android</td>\n",
       "      <td>Siyah</td>\n",
       "    </tr>\n",
       "    <tr>\n",
       "      <th>627</th>\n",
       "      <td>13990.0</td>\n",
       "      <td>TEKNOHANE</td>\n",
       "      <td>45.0</td>\n",
       "      <td>1</td>\n",
       "      <td>450.0</td>\n",
       "      <td>1.75</td>\n",
       "      <td>Var</td>\n",
       "      <td>Gri</td>\n",
       "      <td>Var</td>\n",
       "      <td>Var</td>\n",
       "      <td>Android + iOS</td>\n",
       "      <td>Gri</td>\n",
       "    </tr>\n",
       "    <tr>\n",
       "      <th>628</th>\n",
       "      <td>2390.0</td>\n",
       "      <td>TECHNOMEN</td>\n",
       "      <td>44.0</td>\n",
       "      <td>2</td>\n",
       "      <td>250.0</td>\n",
       "      <td>1.75</td>\n",
       "      <td>Var</td>\n",
       "      <td>Pembe</td>\n",
       "      <td>Var</td>\n",
       "      <td>Yok</td>\n",
       "      <td>Android + iOS</td>\n",
       "      <td>Pembe</td>\n",
       "    </tr>\n",
       "    <tr>\n",
       "      <th>629</th>\n",
       "      <td>699.0</td>\n",
       "      <td>SEYUWATCH</td>\n",
       "      <td>45.0</td>\n",
       "      <td>1</td>\n",
       "      <td>250.0</td>\n",
       "      <td>1.75</td>\n",
       "      <td>Var</td>\n",
       "      <td>Bej</td>\n",
       "      <td>Var</td>\n",
       "      <td>Yok</td>\n",
       "      <td>Android</td>\n",
       "      <td>Bej</td>\n",
       "    </tr>\n",
       "  </tbody>\n",
       "</table>\n",
       "<p>630 rows × 12 columns</p>\n",
       "</div>"
      ],
      "text/plain": [
       "       Fiyat      Marka  Kasa_capi  Garanti_suresi  Batarya_kapasitesi  \\\n",
       "0     3690.0  TECHNOMEN       44.0               2               250.0   \n",
       "1    14999.0      Apple       43.0               2               350.0   \n",
       "2     1342.0     Xiaomi       45.0               2               250.0   \n",
       "3     1211.0        QAP       49.0               1               450.0   \n",
       "4     2430.0  TECHNOMEN       44.0               2               250.0   \n",
       "..       ...        ...        ...             ...                 ...   \n",
       "625   1334.0        QAP       41.0               1               350.0   \n",
       "626   6590.0  TECHNOMEN       44.0               2              1500.0   \n",
       "627  13990.0  TEKNOHANE       45.0               1               450.0   \n",
       "628   2390.0  TECHNOMEN       44.0               2               250.0   \n",
       "629    699.0  SEYUWATCH       45.0               1               250.0   \n",
       "\n",
       "     Ekran_boyutu Sesli_gorusme   Renk Titresim  GPS   Isletim_tipi  \\\n",
       "0            1.75           Var  Siyah      Var  Yok        Android   \n",
       "1            1.25           Var  Beyaz      Var  Var            iOS   \n",
       "2            1.75           Var  Siyah      Var  Yok  Android + iOS   \n",
       "3            2.25           Var  Siyah      Var  Var  Android + iOS   \n",
       "4            1.75           Var  Siyah      Var  Yok  Android + iOS   \n",
       "..            ...           ...    ...      ...  ...            ...   \n",
       "625          1.75           Var    Gri      Var  Var  Android + iOS   \n",
       "626          1.75           Var  Siyah      Var  Var        Android   \n",
       "627          1.75           Var    Gri      Var  Var  Android + iOS   \n",
       "628          1.75           Var  Pembe      Var  Yok  Android + iOS   \n",
       "629          1.75           Var    Bej      Var  Yok        Android   \n",
       "\n",
       "    Kordon_renk  \n",
       "0         Siyah  \n",
       "1         Beyaz  \n",
       "2         Siyah  \n",
       "3         Siyah  \n",
       "4         Pembe  \n",
       "..          ...  \n",
       "625         Gri  \n",
       "626       Siyah  \n",
       "627         Gri  \n",
       "628       Pembe  \n",
       "629         Bej  \n",
       "\n",
       "[630 rows x 12 columns]"
      ]
     },
     "execution_count": 8,
     "metadata": {},
     "output_type": "execute_result"
    }
   ],
   "source": [
    "df"
   ]
  },
  {
   "cell_type": "code",
   "execution_count": 9,
   "id": "95d35ff5",
   "metadata": {},
   "outputs": [
    {
     "name": "stdout",
     "output_type": "stream",
     "text": [
      "False\n",
      "False\n",
      "True\n",
      "False\n",
      "True\n",
      "False\n",
      "False\n",
      "False\n",
      "False\n",
      "False\n",
      "True\n",
      "False\n"
     ]
    }
   ],
   "source": [
    "#Boş değer var mı diye bakıyoruz.\n",
    "print(df['Marka'].isnull().values.any())\n",
    "print(df['Fiyat'].isnull().values.any())\n",
    "print(df['Kasa_capi'].isnull().values.any())\n",
    "print(df['Garanti_suresi'].isnull().values.any())\n",
    "print(df['Batarya_kapasitesi'].isnull().values.any())\n",
    "print(df['Ekran_boyutu'].isnull().values.any())\n",
    "print(df['Sesli_gorusme'].isnull().values.any())\n",
    "print(df['Renk'].isnull().values.any())\n",
    "print(df['Titresim'].isnull().values.any())\n",
    "print(df['GPS'].isnull().values.any())\n",
    "print(df['Isletim_tipi'].isnull().values.any())\n",
    "print(df['Kordon_renk'].isnull().values.any())"
   ]
  },
  {
   "cell_type": "code",
   "execution_count": 10,
   "id": "de83902b",
   "metadata": {},
   "outputs": [
    {
     "data": {
      "text/html": [
       "<div>\n",
       "<style scoped>\n",
       "    .dataframe tbody tr th:only-of-type {\n",
       "        vertical-align: middle;\n",
       "    }\n",
       "\n",
       "    .dataframe tbody tr th {\n",
       "        vertical-align: top;\n",
       "    }\n",
       "\n",
       "    .dataframe thead th {\n",
       "        text-align: right;\n",
       "    }\n",
       "</style>\n",
       "<table border=\"1\" class=\"dataframe\">\n",
       "  <thead>\n",
       "    <tr style=\"text-align: right;\">\n",
       "      <th></th>\n",
       "      <th>Fiyat</th>\n",
       "      <th>Marka</th>\n",
       "      <th>Kasa_capi</th>\n",
       "      <th>Garanti_suresi</th>\n",
       "      <th>Batarya_kapasitesi</th>\n",
       "      <th>Ekran_boyutu</th>\n",
       "      <th>Sesli_gorusme</th>\n",
       "      <th>Renk</th>\n",
       "      <th>Titresim</th>\n",
       "      <th>GPS</th>\n",
       "      <th>Isletim_tipi</th>\n",
       "      <th>Kordon_renk</th>\n",
       "    </tr>\n",
       "  </thead>\n",
       "  <tbody>\n",
       "    <tr>\n",
       "      <th>0</th>\n",
       "      <td>3690.0</td>\n",
       "      <td>TECHNOMEN</td>\n",
       "      <td>44.0</td>\n",
       "      <td>2</td>\n",
       "      <td>250.0</td>\n",
       "      <td>1.75</td>\n",
       "      <td>Var</td>\n",
       "      <td>Siyah</td>\n",
       "      <td>Var</td>\n",
       "      <td>Yok</td>\n",
       "      <td>Android</td>\n",
       "      <td>Siyah</td>\n",
       "    </tr>\n",
       "    <tr>\n",
       "      <th>1</th>\n",
       "      <td>14999.0</td>\n",
       "      <td>Apple</td>\n",
       "      <td>43.0</td>\n",
       "      <td>2</td>\n",
       "      <td>350.0</td>\n",
       "      <td>1.25</td>\n",
       "      <td>Var</td>\n",
       "      <td>Beyaz</td>\n",
       "      <td>Var</td>\n",
       "      <td>Var</td>\n",
       "      <td>iOS</td>\n",
       "      <td>Beyaz</td>\n",
       "    </tr>\n",
       "    <tr>\n",
       "      <th>2</th>\n",
       "      <td>1342.0</td>\n",
       "      <td>Xiaomi</td>\n",
       "      <td>45.0</td>\n",
       "      <td>2</td>\n",
       "      <td>250.0</td>\n",
       "      <td>1.75</td>\n",
       "      <td>Var</td>\n",
       "      <td>Siyah</td>\n",
       "      <td>Var</td>\n",
       "      <td>Yok</td>\n",
       "      <td>Android + iOS</td>\n",
       "      <td>Siyah</td>\n",
       "    </tr>\n",
       "    <tr>\n",
       "      <th>3</th>\n",
       "      <td>1211.0</td>\n",
       "      <td>QAP</td>\n",
       "      <td>49.0</td>\n",
       "      <td>1</td>\n",
       "      <td>450.0</td>\n",
       "      <td>2.25</td>\n",
       "      <td>Var</td>\n",
       "      <td>Siyah</td>\n",
       "      <td>Var</td>\n",
       "      <td>Var</td>\n",
       "      <td>Android + iOS</td>\n",
       "      <td>Siyah</td>\n",
       "    </tr>\n",
       "    <tr>\n",
       "      <th>4</th>\n",
       "      <td>2430.0</td>\n",
       "      <td>TECHNOMEN</td>\n",
       "      <td>44.0</td>\n",
       "      <td>2</td>\n",
       "      <td>250.0</td>\n",
       "      <td>1.75</td>\n",
       "      <td>Var</td>\n",
       "      <td>Siyah</td>\n",
       "      <td>Var</td>\n",
       "      <td>Yok</td>\n",
       "      <td>Android + iOS</td>\n",
       "      <td>Pembe</td>\n",
       "    </tr>\n",
       "    <tr>\n",
       "      <th>...</th>\n",
       "      <td>...</td>\n",
       "      <td>...</td>\n",
       "      <td>...</td>\n",
       "      <td>...</td>\n",
       "      <td>...</td>\n",
       "      <td>...</td>\n",
       "      <td>...</td>\n",
       "      <td>...</td>\n",
       "      <td>...</td>\n",
       "      <td>...</td>\n",
       "      <td>...</td>\n",
       "      <td>...</td>\n",
       "    </tr>\n",
       "    <tr>\n",
       "      <th>625</th>\n",
       "      <td>1334.0</td>\n",
       "      <td>QAP</td>\n",
       "      <td>41.0</td>\n",
       "      <td>1</td>\n",
       "      <td>350.0</td>\n",
       "      <td>1.75</td>\n",
       "      <td>Var</td>\n",
       "      <td>Gri</td>\n",
       "      <td>Var</td>\n",
       "      <td>Var</td>\n",
       "      <td>Android + iOS</td>\n",
       "      <td>Gri</td>\n",
       "    </tr>\n",
       "    <tr>\n",
       "      <th>626</th>\n",
       "      <td>6590.0</td>\n",
       "      <td>TECHNOMEN</td>\n",
       "      <td>44.0</td>\n",
       "      <td>2</td>\n",
       "      <td>1500.0</td>\n",
       "      <td>1.75</td>\n",
       "      <td>Var</td>\n",
       "      <td>Siyah</td>\n",
       "      <td>Var</td>\n",
       "      <td>Var</td>\n",
       "      <td>Android</td>\n",
       "      <td>Siyah</td>\n",
       "    </tr>\n",
       "    <tr>\n",
       "      <th>627</th>\n",
       "      <td>13990.0</td>\n",
       "      <td>TEKNOHANE</td>\n",
       "      <td>45.0</td>\n",
       "      <td>1</td>\n",
       "      <td>450.0</td>\n",
       "      <td>1.75</td>\n",
       "      <td>Var</td>\n",
       "      <td>Gri</td>\n",
       "      <td>Var</td>\n",
       "      <td>Var</td>\n",
       "      <td>Android + iOS</td>\n",
       "      <td>Gri</td>\n",
       "    </tr>\n",
       "    <tr>\n",
       "      <th>628</th>\n",
       "      <td>2390.0</td>\n",
       "      <td>TECHNOMEN</td>\n",
       "      <td>44.0</td>\n",
       "      <td>2</td>\n",
       "      <td>250.0</td>\n",
       "      <td>1.75</td>\n",
       "      <td>Var</td>\n",
       "      <td>Pembe</td>\n",
       "      <td>Var</td>\n",
       "      <td>Yok</td>\n",
       "      <td>Android + iOS</td>\n",
       "      <td>Pembe</td>\n",
       "    </tr>\n",
       "    <tr>\n",
       "      <th>629</th>\n",
       "      <td>699.0</td>\n",
       "      <td>SEYUWATCH</td>\n",
       "      <td>45.0</td>\n",
       "      <td>1</td>\n",
       "      <td>250.0</td>\n",
       "      <td>1.75</td>\n",
       "      <td>Var</td>\n",
       "      <td>Bej</td>\n",
       "      <td>Var</td>\n",
       "      <td>Yok</td>\n",
       "      <td>Android</td>\n",
       "      <td>Bej</td>\n",
       "    </tr>\n",
       "  </tbody>\n",
       "</table>\n",
       "<p>630 rows × 12 columns</p>\n",
       "</div>"
      ],
      "text/plain": [
       "       Fiyat      Marka  Kasa_capi  Garanti_suresi  Batarya_kapasitesi  \\\n",
       "0     3690.0  TECHNOMEN       44.0               2               250.0   \n",
       "1    14999.0      Apple       43.0               2               350.0   \n",
       "2     1342.0     Xiaomi       45.0               2               250.0   \n",
       "3     1211.0        QAP       49.0               1               450.0   \n",
       "4     2430.0  TECHNOMEN       44.0               2               250.0   \n",
       "..       ...        ...        ...             ...                 ...   \n",
       "625   1334.0        QAP       41.0               1               350.0   \n",
       "626   6590.0  TECHNOMEN       44.0               2              1500.0   \n",
       "627  13990.0  TEKNOHANE       45.0               1               450.0   \n",
       "628   2390.0  TECHNOMEN       44.0               2               250.0   \n",
       "629    699.0  SEYUWATCH       45.0               1               250.0   \n",
       "\n",
       "     Ekran_boyutu Sesli_gorusme   Renk Titresim  GPS   Isletim_tipi  \\\n",
       "0            1.75           Var  Siyah      Var  Yok        Android   \n",
       "1            1.25           Var  Beyaz      Var  Var            iOS   \n",
       "2            1.75           Var  Siyah      Var  Yok  Android + iOS   \n",
       "3            2.25           Var  Siyah      Var  Var  Android + iOS   \n",
       "4            1.75           Var  Siyah      Var  Yok  Android + iOS   \n",
       "..            ...           ...    ...      ...  ...            ...   \n",
       "625          1.75           Var    Gri      Var  Var  Android + iOS   \n",
       "626          1.75           Var  Siyah      Var  Var        Android   \n",
       "627          1.75           Var    Gri      Var  Var  Android + iOS   \n",
       "628          1.75           Var  Pembe      Var  Yok  Android + iOS   \n",
       "629          1.75           Var    Bej      Var  Yok        Android   \n",
       "\n",
       "    Kordon_renk  \n",
       "0         Siyah  \n",
       "1         Beyaz  \n",
       "2         Siyah  \n",
       "3         Siyah  \n",
       "4         Pembe  \n",
       "..          ...  \n",
       "625         Gri  \n",
       "626       Siyah  \n",
       "627         Gri  \n",
       "628       Pembe  \n",
       "629         Bej  \n",
       "\n",
       "[630 rows x 12 columns]"
      ]
     },
     "execution_count": 10,
     "metadata": {},
     "output_type": "execute_result"
    }
   ],
   "source": [
    "df"
   ]
  },
  {
   "cell_type": "code",
   "execution_count": 11,
   "id": "63529642",
   "metadata": {},
   "outputs": [],
   "source": [
    " df.to_csv(r'C:\\Users\\user\\OneDrive - Manisa Celal Bayar Üniversitesi\\Masaüstü\\Beyza Yoldaş\\Veri Toplama\\presentation.csv', index=False)"
   ]
  },
  {
   "cell_type": "code",
   "execution_count": null,
   "id": "a5d6269a",
   "metadata": {},
   "outputs": [],
   "source": []
  },
  {
   "cell_type": "code",
   "execution_count": 12,
   "id": "11e207bb",
   "metadata": {},
   "outputs": [],
   "source": [
    "x = df.iloc[:,1:11].values\n",
    "y = df.iloc[:,0].values\n",
    "y = y.reshape(-1,1)"
   ]
  },
  {
   "cell_type": "code",
   "execution_count": 13,
   "id": "b910138e",
   "metadata": {},
   "outputs": [
    {
     "data": {
      "text/plain": [
       "Marka\n",
       "TECHNOMEN           189\n",
       "Apple                80\n",
       "Teknoloji Gelsin     73\n",
       "TEKNOHANE            55\n",
       "QAP                  49\n",
       "Xiaomi               27\n",
       "SeyuTech             27\n",
       "SMARTEST             26\n",
       "Wyze                 26\n",
       "Foon                 25\n",
       "Universal            23\n",
       "SEYUWATCH            18\n",
       "NewBlue              12\n",
       "Name: count, dtype: int64"
      ]
     },
     "execution_count": 13,
     "metadata": {},
     "output_type": "execute_result"
    }
   ],
   "source": [
    "df['Marka'].value_counts()"
   ]
  },
  {
   "cell_type": "code",
   "execution_count": 14,
   "id": "a3f0ec4f",
   "metadata": {
    "scrolled": false
   },
   "outputs": [
    {
     "data": {
      "text/plain": [
       "Isletim_tipi\n",
       "Android + iOS    319\n",
       "Android          136\n",
       "iOS              127\n",
       "Diğer             23\n",
       "Name: count, dtype: int64"
      ]
     },
     "execution_count": 14,
     "metadata": {},
     "output_type": "execute_result"
    }
   ],
   "source": [
    "df['Isletim_tipi'].value_counts()"
   ]
  },
  {
   "cell_type": "code",
   "execution_count": 15,
   "id": "240488cd",
   "metadata": {},
   "outputs": [
    {
     "data": {
      "text/plain": [
       "Renk\n",
       "Siyah      258\n",
       "Beyaz      118\n",
       "Pembe       79\n",
       "Gümüş       53\n",
       "Gri         53\n",
       "Metalik     29\n",
       "Turuncu     22\n",
       "Bej         18\n",
       "Name: count, dtype: int64"
      ]
     },
     "execution_count": 15,
     "metadata": {},
     "output_type": "execute_result"
    }
   ],
   "source": [
    "df['Renk'].value_counts()"
   ]
  },
  {
   "cell_type": "code",
   "execution_count": 16,
   "id": "aaea95bd",
   "metadata": {},
   "outputs": [],
   "source": [
    "from sklearn.preprocessing import LabelEncoder\n",
    "enc=LabelEncoder()"
   ]
  },
  {
   "cell_type": "code",
   "execution_count": 17,
   "id": "da4a0bb0",
   "metadata": {},
   "outputs": [],
   "source": [
    "df['Marka'] = enc.fit_transform(df['Marka'])"
   ]
  },
  {
   "cell_type": "code",
   "execution_count": 18,
   "id": "382c52c1",
   "metadata": {},
   "outputs": [
    {
     "data": {
      "text/plain": [
       "Marka\n",
       "7     189\n",
       "0      80\n",
       "9      73\n",
       "8      55\n",
       "3      49\n",
       "12     27\n",
       "6      27\n",
       "5      26\n",
       "11     26\n",
       "1      25\n",
       "10     23\n",
       "4      18\n",
       "2      12\n",
       "Name: count, dtype: int64"
      ]
     },
     "execution_count": 18,
     "metadata": {},
     "output_type": "execute_result"
    }
   ],
   "source": [
    "df['Marka'].value_counts() \n",
    "# TECHNOMEN:10,Foon:4,MUTU:7,Daniel Klein:2,MATEO:6,Teknoloji Gelsin:11\n",
    "# marguierite:14,Xiaomi:13,SMARTEST:9,Universal:12,Apple:0,DURKHEİM:1\n",
    "# SEYUWATCH:8,Favors:3,Huawei:5"
   ]
  },
  {
   "cell_type": "code",
   "execution_count": 19,
   "id": "c56dddba",
   "metadata": {},
   "outputs": [],
   "source": [
    "df[\"Isletim_tipi\"] = df.Isletim_tipi.str.replace(' ','')"
   ]
  },
  {
   "cell_type": "code",
   "execution_count": 20,
   "id": "b150d925",
   "metadata": {},
   "outputs": [],
   "source": [
    "df['Isletim_tipi'] = df['Isletim_tipi'].replace(['iOS'],'1')\n",
    "df['Isletim_tipi'] = df['Isletim_tipi'].replace(['Android','Android+iOS'],'0')\n",
    "df['Isletim_tipi'] = df['Isletim_tipi'].replace(['Diğer'],'0')\n",
    "df['Isletim_tipi'] = df['Isletim_tipi'].replace([pd.NA], '0')"
   ]
  },
  {
   "cell_type": "code",
   "execution_count": 21,
   "id": "65780a6f",
   "metadata": {},
   "outputs": [
    {
     "data": {
      "text/plain": [
       "Isletim_tipi\n",
       "0    503\n",
       "1    127\n",
       "Name: count, dtype: int64"
      ]
     },
     "execution_count": 21,
     "metadata": {},
     "output_type": "execute_result"
    }
   ],
   "source": [
    "df['Isletim_tipi'].value_counts()"
   ]
  },
  {
   "cell_type": "code",
   "execution_count": 22,
   "id": "ba754181",
   "metadata": {
    "scrolled": true
   },
   "outputs": [
    {
     "name": "stdout",
     "output_type": "stream",
     "text": [
      "422.15815485996706\n"
     ]
    }
   ],
   "source": [
    "print(df['Batarya_kapasitesi'].mean()) #ortalamasını hesaplar"
   ]
  },
  {
   "cell_type": "code",
   "execution_count": 23,
   "id": "41bf87d6",
   "metadata": {},
   "outputs": [],
   "source": [
    "df.Batarya_kapasitesi.fillna(df['Batarya_kapasitesi'].mean(),inplace=True)"
   ]
  },
  {
   "cell_type": "code",
   "execution_count": 24,
   "id": "0a03bbbf",
   "metadata": {},
   "outputs": [
    {
     "name": "stdout",
     "output_type": "stream",
     "text": [
      "False\n",
      "False\n",
      "True\n",
      "False\n",
      "False\n",
      "False\n",
      "False\n",
      "False\n",
      "False\n",
      "False\n",
      "False\n",
      "False\n"
     ]
    }
   ],
   "source": [
    "print(df['Marka'].isnull().values.any())\n",
    "print(df['Fiyat'].isnull().values.any())\n",
    "print(df['Kasa_capi'].isnull().values.any())\n",
    "print(df['Garanti_suresi'].isnull().values.any())\n",
    "print(df['Batarya_kapasitesi'].isnull().values.any())\n",
    "print(df['Ekran_boyutu'].isnull().values.any())\n",
    "print(df['Sesli_gorusme'].isnull().values.any())\n",
    "print(df['Renk'].isnull().values.any())\n",
    "print(df['Titresim'].isnull().values.any())\n",
    "print(df['GPS'].isnull().values.any())\n",
    "print(df['Isletim_tipi'].isnull().values.any())\n",
    "print(df['Kordon_renk'].isnull().values.any())"
   ]
  },
  {
   "cell_type": "code",
   "execution_count": null,
   "id": "aada45e2",
   "metadata": {},
   "outputs": [],
   "source": []
  },
  {
   "cell_type": "code",
   "execution_count": 25,
   "id": "5660d5c4",
   "metadata": {},
   "outputs": [
    {
     "data": {
      "text/plain": [
       "Kasa_capi\n",
       "44.0    217\n",
       "45.0    145\n",
       "49.0    104\n",
       "43.0     63\n",
       "47.0     27\n",
       "41.0     26\n",
       "42.0     23\n",
       "Name: count, dtype: int64"
      ]
     },
     "execution_count": 25,
     "metadata": {},
     "output_type": "execute_result"
    }
   ],
   "source": [
    "df['Kasa_capi'].value_counts()"
   ]
  },
  {
   "cell_type": "code",
   "execution_count": 26,
   "id": "e6626c52",
   "metadata": {},
   "outputs": [],
   "source": [
    "df['Kasa_capi'] = df['Kasa_capi'].replace([pd.NA], 0)"
   ]
  },
  {
   "cell_type": "code",
   "execution_count": 27,
   "id": "1a0e3fe3",
   "metadata": {},
   "outputs": [],
   "source": [
    "df['Kasa_capi'] = df['Kasa_capi'].fillna(0).astype(int)"
   ]
  },
  {
   "cell_type": "code",
   "execution_count": 28,
   "id": "b9ff0145",
   "metadata": {},
   "outputs": [],
   "source": [
    "df['Kasa_capi'] = df['Kasa_capi'].astype(int)"
   ]
  },
  {
   "cell_type": "code",
   "execution_count": 29,
   "id": "0dd1899f",
   "metadata": {},
   "outputs": [
    {
     "data": {
      "text/plain": [
       "Kasa_capi\n",
       "44    217\n",
       "45    145\n",
       "49    104\n",
       "43     63\n",
       "47     27\n",
       "41     26\n",
       "0      25\n",
       "42     23\n",
       "Name: count, dtype: int64"
      ]
     },
     "execution_count": 29,
     "metadata": {},
     "output_type": "execute_result"
    }
   ],
   "source": [
    "df['Kasa_capi'].value_counts()"
   ]
  },
  {
   "cell_type": "code",
   "execution_count": 30,
   "id": "c7c0b76d",
   "metadata": {},
   "outputs": [],
   "source": [
    "df.Isletim_tipi.fillna(2,inplace=True)"
   ]
  },
  {
   "cell_type": "code",
   "execution_count": 31,
   "id": "586d6113",
   "metadata": {},
   "outputs": [
    {
     "name": "stdout",
     "output_type": "stream",
     "text": [
      "False\n",
      "False\n",
      "False\n",
      "False\n",
      "False\n",
      "False\n",
      "False\n",
      "False\n",
      "False\n",
      "False\n",
      "False\n",
      "False\n"
     ]
    }
   ],
   "source": [
    "print(df['Marka'].isnull().values.any())\n",
    "print(df['Fiyat'].isnull().values.any())\n",
    "print(df['Kasa_capi'].isnull().values.any())\n",
    "print(df['Garanti_suresi'].isnull().values.any())\n",
    "print(df['Batarya_kapasitesi'].isnull().values.any())\n",
    "print(df['Ekran_boyutu'].isnull().values.any())\n",
    "print(df['Sesli_gorusme'].isnull().values.any())\n",
    "print(df['Renk'].isnull().values.any())\n",
    "print(df['Titresim'].isnull().values.any())\n",
    "print(df['GPS'].isnull().values.any())\n",
    "print(df['Isletim_tipi'].isnull().values.any())\n",
    "print(df['Kordon_renk'].isnull().values.any())"
   ]
  },
  {
   "cell_type": "code",
   "execution_count": 32,
   "id": "7e45e439",
   "metadata": {},
   "outputs": [],
   "source": [
    "df['Renk'] = enc.fit_transform(df['Renk'])"
   ]
  },
  {
   "cell_type": "code",
   "execution_count": 33,
   "id": "c45861f0",
   "metadata": {},
   "outputs": [
    {
     "data": {
      "text/plain": [
       "Renk\n",
       "6    258\n",
       "1    118\n",
       "5     79\n",
       "3     53\n",
       "2     53\n",
       "4     29\n",
       "7     22\n",
       "0     18\n",
       "Name: count, dtype: int64"
      ]
     },
     "execution_count": 33,
     "metadata": {},
     "output_type": "execute_result"
    }
   ],
   "source": [
    "df['Renk'].value_counts() \n",
    "# siyah:5,beyaz:1,pembe:4,gümüş:3,turuncu:8,gri:6,bej:0,yeşil:7"
   ]
  },
  {
   "cell_type": "code",
   "execution_count": 34,
   "id": "edc918f8",
   "metadata": {},
   "outputs": [],
   "source": [
    "df['Renk'] = df['Renk'].replace([pd.NA], '0')"
   ]
  },
  {
   "cell_type": "code",
   "execution_count": 35,
   "id": "3b226de5",
   "metadata": {},
   "outputs": [],
   "source": [
    "df['Kordon_renk'] = enc.fit_transform(df['Kordon_renk'])"
   ]
  },
  {
   "cell_type": "code",
   "execution_count": 36,
   "id": "a73d05e8",
   "metadata": {},
   "outputs": [
    {
     "data": {
      "text/plain": [
       "Kordon_renk\n",
       "5    323\n",
       "4    109\n",
       "2     53\n",
       "7     47\n",
       "3     29\n",
       "6     26\n",
       "1     25\n",
       "0     18\n",
       "Name: count, dtype: int64"
      ]
     },
     "execution_count": 36,
     "metadata": {},
     "output_type": "execute_result"
    }
   ],
   "source": [
    "df['Kordon_renk'].value_counts()"
   ]
  },
  {
   "cell_type": "code",
   "execution_count": 37,
   "id": "51de5027",
   "metadata": {},
   "outputs": [
    {
     "name": "stdout",
     "output_type": "stream",
     "text": [
      "False\n",
      "False\n",
      "False\n",
      "False\n",
      "False\n",
      "False\n",
      "False\n",
      "False\n",
      "False\n",
      "False\n",
      "False\n",
      "False\n"
     ]
    }
   ],
   "source": [
    "print(df['Marka'].isnull().values.any())\n",
    "print(df['Fiyat'].isnull().values.any())\n",
    "print(df['Kasa_capi'].isnull().values.any())\n",
    "print(df['Garanti_suresi'].isnull().values.any())\n",
    "print(df['Batarya_kapasitesi'].isnull().values.any())\n",
    "print(df['Ekran_boyutu'].isnull().values.any())\n",
    "print(df['Sesli_gorusme'].isnull().values.any())\n",
    "print(df['Renk'].isnull().values.any())\n",
    "print(df['Titresim'].isnull().values.any())\n",
    "print(df['GPS'].isnull().values.any())\n",
    "print(df['Isletim_tipi'].isnull().values.any())\n",
    "print(df['Kordon_renk'].isnull().values.any())"
   ]
  },
  {
   "cell_type": "code",
   "execution_count": 38,
   "id": "ebdcb9b5",
   "metadata": {},
   "outputs": [
    {
     "data": {
      "text/plain": [
       "Titresim\n",
       "Var    557\n",
       "Yok     73\n",
       "Name: count, dtype: int64"
      ]
     },
     "execution_count": 38,
     "metadata": {},
     "output_type": "execute_result"
    }
   ],
   "source": [
    "df['Titresim'].value_counts()"
   ]
  },
  {
   "cell_type": "code",
   "execution_count": 39,
   "id": "7f051481",
   "metadata": {},
   "outputs": [],
   "source": [
    "df['Titresim'] = df['Titresim'].replace(['Var'],'1')\n",
    "df['Titresim'] = df['Titresim'].replace(['Yok'],'0')\n",
    "df['Titresim'] = df['Titresim'].replace([pd.NA], '0')\n"
   ]
  },
  {
   "cell_type": "code",
   "execution_count": 40,
   "id": "187efa71",
   "metadata": {},
   "outputs": [
    {
     "data": {
      "text/plain": [
       "Titresim\n",
       "1    557\n",
       "0     73\n",
       "Name: count, dtype: int64"
      ]
     },
     "execution_count": 40,
     "metadata": {},
     "output_type": "execute_result"
    }
   ],
   "source": [
    "df['Titresim'].value_counts()\n",
    "# Var:1,Yok:0"
   ]
  },
  {
   "cell_type": "code",
   "execution_count": 41,
   "id": "6f3d8bce",
   "metadata": {},
   "outputs": [
    {
     "data": {
      "text/plain": [
       "Sesli_gorusme\n",
       "Var    630\n",
       "Name: count, dtype: int64"
      ]
     },
     "execution_count": 41,
     "metadata": {},
     "output_type": "execute_result"
    }
   ],
   "source": [
    "df['Sesli_gorusme'].value_counts()"
   ]
  },
  {
   "cell_type": "code",
   "execution_count": 42,
   "id": "c50fe788",
   "metadata": {},
   "outputs": [],
   "source": [
    "df['Sesli_gorusme'] = df['Sesli_gorusme'].replace(['Var'], '1')\n",
    "df['Sesli_gorusme'] = df['Sesli_gorusme'].replace(['Yok'], '0')\n",
    "df['Sesli_gorusme'] = df['Sesli_gorusme'].replace([pd.NA], '0')"
   ]
  },
  {
   "cell_type": "code",
   "execution_count": 43,
   "id": "331ac894",
   "metadata": {},
   "outputs": [
    {
     "data": {
      "text/plain": [
       "Sesli_gorusme\n",
       "1    630\n",
       "Name: count, dtype: int64"
      ]
     },
     "execution_count": 43,
     "metadata": {},
     "output_type": "execute_result"
    }
   ],
   "source": [
    "df['Sesli_gorusme'].value_counts()"
   ]
  },
  {
   "cell_type": "code",
   "execution_count": 44,
   "id": "cf9175bc",
   "metadata": {},
   "outputs": [
    {
     "data": {
      "text/plain": [
       "GPS\n",
       "Yok    355\n",
       "Var    275\n",
       "Name: count, dtype: int64"
      ]
     },
     "execution_count": 44,
     "metadata": {},
     "output_type": "execute_result"
    }
   ],
   "source": [
    "df['GPS'].value_counts()"
   ]
  },
  {
   "cell_type": "code",
   "execution_count": 45,
   "id": "082f7a6a",
   "metadata": {},
   "outputs": [],
   "source": [
    "df['GPS'] = df['GPS'].replace(['Var'],'1')\n",
    "df['GPS'] = df['GPS'].replace(['Yok'],'0')\n",
    "df['GPS'] = df['GPS'].replace([pd.NA], '0')"
   ]
  },
  {
   "cell_type": "code",
   "execution_count": 46,
   "id": "4132a3d2",
   "metadata": {},
   "outputs": [
    {
     "data": {
      "text/plain": [
       "GPS\n",
       "0    355\n",
       "1    275\n",
       "Name: count, dtype: int64"
      ]
     },
     "execution_count": 46,
     "metadata": {},
     "output_type": "execute_result"
    }
   ],
   "source": [
    "df['GPS'].value_counts()"
   ]
  },
  {
   "cell_type": "code",
   "execution_count": 47,
   "id": "2521f6fa",
   "metadata": {},
   "outputs": [
    {
     "name": "stdout",
     "output_type": "stream",
     "text": [
      "False\n",
      "False\n",
      "False\n",
      "False\n",
      "False\n",
      "False\n",
      "False\n",
      "False\n",
      "False\n",
      "False\n",
      "False\n",
      "False\n"
     ]
    }
   ],
   "source": [
    "print(df['Marka'].isnull().values.any())\n",
    "print(df['Fiyat'].isnull().values.any())\n",
    "print(df['Kasa_capi'].isnull().values.any())\n",
    "print(df['Garanti_suresi'].isnull().values.any())\n",
    "print(df['Batarya_kapasitesi'].isnull().values.any())\n",
    "print(df['Ekran_boyutu'].isnull().values.any())\n",
    "print(df['Sesli_gorusme'].isnull().values.any())\n",
    "print(df['Renk'].isnull().values.any())\n",
    "print(df['Titresim'].isnull().values.any())\n",
    "print(df['GPS'].isnull().values.any())\n",
    "print(df['Isletim_tipi'].isnull().values.any())\n",
    "print(df['Kordon_renk'].isnull().values.any())"
   ]
  },
  {
   "cell_type": "code",
   "execution_count": 48,
   "id": "e570243a",
   "metadata": {},
   "outputs": [],
   "source": [
    "df['Garanti_suresi'] = enc.fit_transform(df['Garanti_suresi'])"
   ]
  },
  {
   "cell_type": "code",
   "execution_count": 49,
   "id": "5c13efa6",
   "metadata": {},
   "outputs": [
    {
     "data": {
      "text/plain": [
       "Garanti_suresi\n",
       "2    482\n",
       "1    122\n",
       "0     26\n",
       "Name: count, dtype: int64"
      ]
     },
     "execution_count": 49,
     "metadata": {},
     "output_type": "execute_result"
    }
   ],
   "source": [
    "df['Garanti_suresi'].value_counts()"
   ]
  },
  {
   "cell_type": "code",
   "execution_count": 50,
   "id": "2a4e63ac",
   "metadata": {},
   "outputs": [
    {
     "data": {
      "text/plain": [
       "Batarya_kapasitesi\n",
       "250.000000     312\n",
       "350.000000     104\n",
       "450.000000      50\n",
       "900.000000      47\n",
       "1500.000000     39\n",
       "550.000000      29\n",
       "100.000000      26\n",
       "422.158155      23\n",
       "Name: count, dtype: int64"
      ]
     },
     "execution_count": 50,
     "metadata": {},
     "output_type": "execute_result"
    }
   ],
   "source": [
    "df['Batarya_kapasitesi'].value_counts()"
   ]
  },
  {
   "cell_type": "code",
   "execution_count": 51,
   "id": "d9977ef5",
   "metadata": {},
   "outputs": [],
   "source": [
    "df['Batarya_kapasitesi'] = df['Batarya_kapasitesi'].replace([pd.NA], 0)"
   ]
  },
  {
   "cell_type": "code",
   "execution_count": 52,
   "id": "742456ac",
   "metadata": {},
   "outputs": [],
   "source": [
    "df['Batarya_kapasitesi'] = df['Batarya_kapasitesi'].fillna(0).astype(int)"
   ]
  },
  {
   "cell_type": "code",
   "execution_count": 53,
   "id": "30b9a087",
   "metadata": {},
   "outputs": [],
   "source": [
    "df['Batarya_kapasitesi'] = df['Batarya_kapasitesi'].astype(int)"
   ]
  },
  {
   "cell_type": "code",
   "execution_count": 54,
   "id": "8d31e19c",
   "metadata": {},
   "outputs": [
    {
     "data": {
      "text/plain": [
       "Batarya_kapasitesi\n",
       "250     312\n",
       "350     104\n",
       "450      50\n",
       "900      47\n",
       "1500     39\n",
       "550      29\n",
       "100      26\n",
       "422      23\n",
       "Name: count, dtype: int64"
      ]
     },
     "execution_count": 54,
     "metadata": {},
     "output_type": "execute_result"
    }
   ],
   "source": [
    "df['Batarya_kapasitesi'].value_counts()"
   ]
  },
  {
   "cell_type": "code",
   "execution_count": 55,
   "id": "fc5c5c2e",
   "metadata": {},
   "outputs": [
    {
     "data": {
      "text/plain": [
       "Ekran_boyutu\n",
       "1.75    463\n",
       "2.25    102\n",
       "1.25     53\n",
       "4.25     12\n",
       "Name: count, dtype: int64"
      ]
     },
     "execution_count": 55,
     "metadata": {},
     "output_type": "execute_result"
    }
   ],
   "source": [
    "df['Ekran_boyutu'].value_counts()"
   ]
  },
  {
   "cell_type": "code",
   "execution_count": 56,
   "id": "9bfd827a",
   "metadata": {},
   "outputs": [
    {
     "name": "stdout",
     "output_type": "stream",
     "text": [
      "False\n",
      "False\n",
      "False\n",
      "False\n",
      "False\n",
      "False\n",
      "False\n",
      "False\n",
      "False\n",
      "False\n",
      "False\n",
      "False\n"
     ]
    }
   ],
   "source": [
    "print(df['Marka'].isnull().values.any())\n",
    "print(df['Fiyat'].isnull().values.any())\n",
    "print(df['Kasa_capi'].isnull().values.any())\n",
    "print(df['Garanti_suresi'].isnull().values.any())\n",
    "print(df['Batarya_kapasitesi'].isnull().values.any())\n",
    "print(df['Ekran_boyutu'].isnull().values.any())\n",
    "print(df['Sesli_gorusme'].isnull().values.any())\n",
    "print(df['Renk'].isnull().values.any())\n",
    "print(df['Titresim'].isnull().values.any())\n",
    "print(df['GPS'].isnull().values.any())\n",
    "print(df['Isletim_tipi'].isnull().values.any())\n",
    "print(df['Kordon_renk'].isnull().values.any())"
   ]
  },
  {
   "cell_type": "code",
   "execution_count": 57,
   "id": "d4f4b494",
   "metadata": {},
   "outputs": [
    {
     "data": {
      "text/html": [
       "<div>\n",
       "<style scoped>\n",
       "    .dataframe tbody tr th:only-of-type {\n",
       "        vertical-align: middle;\n",
       "    }\n",
       "\n",
       "    .dataframe tbody tr th {\n",
       "        vertical-align: top;\n",
       "    }\n",
       "\n",
       "    .dataframe thead th {\n",
       "        text-align: right;\n",
       "    }\n",
       "</style>\n",
       "<table border=\"1\" class=\"dataframe\">\n",
       "  <thead>\n",
       "    <tr style=\"text-align: right;\">\n",
       "      <th></th>\n",
       "      <th>Fiyat</th>\n",
       "      <th>Marka</th>\n",
       "      <th>Kasa_capi</th>\n",
       "      <th>Garanti_suresi</th>\n",
       "      <th>Batarya_kapasitesi</th>\n",
       "      <th>Ekran_boyutu</th>\n",
       "      <th>Sesli_gorusme</th>\n",
       "      <th>Renk</th>\n",
       "      <th>Titresim</th>\n",
       "      <th>GPS</th>\n",
       "      <th>Isletim_tipi</th>\n",
       "      <th>Kordon_renk</th>\n",
       "    </tr>\n",
       "  </thead>\n",
       "  <tbody>\n",
       "    <tr>\n",
       "      <th>0</th>\n",
       "      <td>3690.0</td>\n",
       "      <td>7</td>\n",
       "      <td>44</td>\n",
       "      <td>2</td>\n",
       "      <td>250</td>\n",
       "      <td>1.75</td>\n",
       "      <td>1</td>\n",
       "      <td>6</td>\n",
       "      <td>1</td>\n",
       "      <td>0</td>\n",
       "      <td>0</td>\n",
       "      <td>5</td>\n",
       "    </tr>\n",
       "    <tr>\n",
       "      <th>1</th>\n",
       "      <td>14999.0</td>\n",
       "      <td>0</td>\n",
       "      <td>43</td>\n",
       "      <td>2</td>\n",
       "      <td>350</td>\n",
       "      <td>1.25</td>\n",
       "      <td>1</td>\n",
       "      <td>1</td>\n",
       "      <td>1</td>\n",
       "      <td>1</td>\n",
       "      <td>1</td>\n",
       "      <td>1</td>\n",
       "    </tr>\n",
       "    <tr>\n",
       "      <th>2</th>\n",
       "      <td>1342.0</td>\n",
       "      <td>12</td>\n",
       "      <td>45</td>\n",
       "      <td>2</td>\n",
       "      <td>250</td>\n",
       "      <td>1.75</td>\n",
       "      <td>1</td>\n",
       "      <td>6</td>\n",
       "      <td>1</td>\n",
       "      <td>0</td>\n",
       "      <td>0</td>\n",
       "      <td>5</td>\n",
       "    </tr>\n",
       "    <tr>\n",
       "      <th>3</th>\n",
       "      <td>1211.0</td>\n",
       "      <td>3</td>\n",
       "      <td>49</td>\n",
       "      <td>1</td>\n",
       "      <td>450</td>\n",
       "      <td>2.25</td>\n",
       "      <td>1</td>\n",
       "      <td>6</td>\n",
       "      <td>1</td>\n",
       "      <td>1</td>\n",
       "      <td>0</td>\n",
       "      <td>5</td>\n",
       "    </tr>\n",
       "    <tr>\n",
       "      <th>4</th>\n",
       "      <td>2430.0</td>\n",
       "      <td>7</td>\n",
       "      <td>44</td>\n",
       "      <td>2</td>\n",
       "      <td>250</td>\n",
       "      <td>1.75</td>\n",
       "      <td>1</td>\n",
       "      <td>6</td>\n",
       "      <td>1</td>\n",
       "      <td>0</td>\n",
       "      <td>0</td>\n",
       "      <td>4</td>\n",
       "    </tr>\n",
       "    <tr>\n",
       "      <th>...</th>\n",
       "      <td>...</td>\n",
       "      <td>...</td>\n",
       "      <td>...</td>\n",
       "      <td>...</td>\n",
       "      <td>...</td>\n",
       "      <td>...</td>\n",
       "      <td>...</td>\n",
       "      <td>...</td>\n",
       "      <td>...</td>\n",
       "      <td>...</td>\n",
       "      <td>...</td>\n",
       "      <td>...</td>\n",
       "    </tr>\n",
       "    <tr>\n",
       "      <th>625</th>\n",
       "      <td>1334.0</td>\n",
       "      <td>3</td>\n",
       "      <td>41</td>\n",
       "      <td>1</td>\n",
       "      <td>350</td>\n",
       "      <td>1.75</td>\n",
       "      <td>1</td>\n",
       "      <td>2</td>\n",
       "      <td>1</td>\n",
       "      <td>1</td>\n",
       "      <td>0</td>\n",
       "      <td>2</td>\n",
       "    </tr>\n",
       "    <tr>\n",
       "      <th>626</th>\n",
       "      <td>6590.0</td>\n",
       "      <td>7</td>\n",
       "      <td>44</td>\n",
       "      <td>2</td>\n",
       "      <td>1500</td>\n",
       "      <td>1.75</td>\n",
       "      <td>1</td>\n",
       "      <td>6</td>\n",
       "      <td>1</td>\n",
       "      <td>1</td>\n",
       "      <td>0</td>\n",
       "      <td>5</td>\n",
       "    </tr>\n",
       "    <tr>\n",
       "      <th>627</th>\n",
       "      <td>13990.0</td>\n",
       "      <td>8</td>\n",
       "      <td>45</td>\n",
       "      <td>1</td>\n",
       "      <td>450</td>\n",
       "      <td>1.75</td>\n",
       "      <td>1</td>\n",
       "      <td>2</td>\n",
       "      <td>1</td>\n",
       "      <td>1</td>\n",
       "      <td>0</td>\n",
       "      <td>2</td>\n",
       "    </tr>\n",
       "    <tr>\n",
       "      <th>628</th>\n",
       "      <td>2390.0</td>\n",
       "      <td>7</td>\n",
       "      <td>44</td>\n",
       "      <td>2</td>\n",
       "      <td>250</td>\n",
       "      <td>1.75</td>\n",
       "      <td>1</td>\n",
       "      <td>5</td>\n",
       "      <td>1</td>\n",
       "      <td>0</td>\n",
       "      <td>0</td>\n",
       "      <td>4</td>\n",
       "    </tr>\n",
       "    <tr>\n",
       "      <th>629</th>\n",
       "      <td>699.0</td>\n",
       "      <td>4</td>\n",
       "      <td>45</td>\n",
       "      <td>1</td>\n",
       "      <td>250</td>\n",
       "      <td>1.75</td>\n",
       "      <td>1</td>\n",
       "      <td>0</td>\n",
       "      <td>1</td>\n",
       "      <td>0</td>\n",
       "      <td>0</td>\n",
       "      <td>0</td>\n",
       "    </tr>\n",
       "  </tbody>\n",
       "</table>\n",
       "<p>630 rows × 12 columns</p>\n",
       "</div>"
      ],
      "text/plain": [
       "       Fiyat  Marka  Kasa_capi  Garanti_suresi  Batarya_kapasitesi  \\\n",
       "0     3690.0      7         44               2                 250   \n",
       "1    14999.0      0         43               2                 350   \n",
       "2     1342.0     12         45               2                 250   \n",
       "3     1211.0      3         49               1                 450   \n",
       "4     2430.0      7         44               2                 250   \n",
       "..       ...    ...        ...             ...                 ...   \n",
       "625   1334.0      3         41               1                 350   \n",
       "626   6590.0      7         44               2                1500   \n",
       "627  13990.0      8         45               1                 450   \n",
       "628   2390.0      7         44               2                 250   \n",
       "629    699.0      4         45               1                 250   \n",
       "\n",
       "     Ekran_boyutu Sesli_gorusme  Renk Titresim GPS Isletim_tipi  Kordon_renk  \n",
       "0            1.75             1     6        1   0            0            5  \n",
       "1            1.25             1     1        1   1            1            1  \n",
       "2            1.75             1     6        1   0            0            5  \n",
       "3            2.25             1     6        1   1            0            5  \n",
       "4            1.75             1     6        1   0            0            4  \n",
       "..            ...           ...   ...      ...  ..          ...          ...  \n",
       "625          1.75             1     2        1   1            0            2  \n",
       "626          1.75             1     6        1   1            0            5  \n",
       "627          1.75             1     2        1   1            0            2  \n",
       "628          1.75             1     5        1   0            0            4  \n",
       "629          1.75             1     0        1   0            0            0  \n",
       "\n",
       "[630 rows x 12 columns]"
      ]
     },
     "execution_count": 57,
     "metadata": {},
     "output_type": "execute_result"
    }
   ],
   "source": [
    "df"
   ]
  },
  {
   "cell_type": "code",
   "execution_count": 58,
   "id": "31ecc1c6",
   "metadata": {},
   "outputs": [],
   "source": [
    "df.to_csv(r\"C:\\Users\\user\\OneDrive - Manisa Celal Bayar Üniversitesi\\Masaüstü\\Beyza Yoldaş\\Veri Toplama\\akıllısaat-fill-training.csv\", index=False)\n"
   ]
  }
 ],
 "metadata": {
  "kernelspec": {
   "display_name": "Python 3 (ipykernel)",
   "language": "python",
   "name": "python3"
  },
  "language_info": {
   "codemirror_mode": {
    "name": "ipython",
    "version": 3
   },
   "file_extension": ".py",
   "mimetype": "text/x-python",
   "name": "python",
   "nbconvert_exporter": "python",
   "pygments_lexer": "ipython3",
   "version": "3.11.5"
  }
 },
 "nbformat": 4,
 "nbformat_minor": 5
}
