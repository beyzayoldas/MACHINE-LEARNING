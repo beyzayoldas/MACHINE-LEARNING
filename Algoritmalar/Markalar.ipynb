{
 "cells": [
  {
   "cell_type": "code",
   "execution_count": 1,
   "id": "364537c5",
   "metadata": {},
   "outputs": [],
   "source": [
    "import pandas as pd\n",
    "import numpy as np"
   ]
  },
  {
   "cell_type": "code",
   "execution_count": 2,
   "id": "24e95197",
   "metadata": {},
   "outputs": [],
   "source": [
    "dataset = pd.read_csv(r'C:\\Users\\user\\OneDrive - Manisa Celal Bayar Üniversitesi\\Masaüstü\\Beyza Yoldaş\\Veri Toplama\\presentation.csv')"
   ]
  },
  {
   "cell_type": "code",
   "execution_count": 3,
   "id": "fe8270eb",
   "metadata": {},
   "outputs": [
    {
     "data": {
      "text/html": [
       "<div>\n",
       "<style scoped>\n",
       "    .dataframe tbody tr th:only-of-type {\n",
       "        vertical-align: middle;\n",
       "    }\n",
       "\n",
       "    .dataframe tbody tr th {\n",
       "        vertical-align: top;\n",
       "    }\n",
       "\n",
       "    .dataframe thead th {\n",
       "        text-align: right;\n",
       "    }\n",
       "</style>\n",
       "<table border=\"1\" class=\"dataframe\">\n",
       "  <thead>\n",
       "    <tr style=\"text-align: right;\">\n",
       "      <th></th>\n",
       "      <th>Fiyat</th>\n",
       "      <th>Marka</th>\n",
       "      <th>Kasa_capi</th>\n",
       "      <th>Garanti_suresi</th>\n",
       "      <th>Batarya_kapasitesi</th>\n",
       "      <th>Ekran_boyutu</th>\n",
       "      <th>Sesli_gorusme</th>\n",
       "      <th>Renk</th>\n",
       "      <th>Titresim</th>\n",
       "      <th>GPS</th>\n",
       "      <th>Isletim_tipi</th>\n",
       "      <th>Kordon_renk</th>\n",
       "    </tr>\n",
       "  </thead>\n",
       "  <tbody>\n",
       "    <tr>\n",
       "      <th>0</th>\n",
       "      <td>3690.0</td>\n",
       "      <td>TECHNOMEN</td>\n",
       "      <td>44.0</td>\n",
       "      <td>2</td>\n",
       "      <td>250.0</td>\n",
       "      <td>1.75</td>\n",
       "      <td>Var</td>\n",
       "      <td>Siyah</td>\n",
       "      <td>Var</td>\n",
       "      <td>Yok</td>\n",
       "      <td>Android</td>\n",
       "      <td>Siyah</td>\n",
       "    </tr>\n",
       "    <tr>\n",
       "      <th>1</th>\n",
       "      <td>14999.0</td>\n",
       "      <td>Apple</td>\n",
       "      <td>43.0</td>\n",
       "      <td>2</td>\n",
       "      <td>350.0</td>\n",
       "      <td>1.25</td>\n",
       "      <td>Var</td>\n",
       "      <td>Beyaz</td>\n",
       "      <td>Var</td>\n",
       "      <td>Var</td>\n",
       "      <td>iOS</td>\n",
       "      <td>Beyaz</td>\n",
       "    </tr>\n",
       "    <tr>\n",
       "      <th>2</th>\n",
       "      <td>1342.0</td>\n",
       "      <td>Xiaomi</td>\n",
       "      <td>45.0</td>\n",
       "      <td>2</td>\n",
       "      <td>250.0</td>\n",
       "      <td>1.75</td>\n",
       "      <td>Var</td>\n",
       "      <td>Siyah</td>\n",
       "      <td>Var</td>\n",
       "      <td>Yok</td>\n",
       "      <td>Android + iOS</td>\n",
       "      <td>Siyah</td>\n",
       "    </tr>\n",
       "    <tr>\n",
       "      <th>3</th>\n",
       "      <td>1211.0</td>\n",
       "      <td>QAP</td>\n",
       "      <td>49.0</td>\n",
       "      <td>1</td>\n",
       "      <td>450.0</td>\n",
       "      <td>2.25</td>\n",
       "      <td>Var</td>\n",
       "      <td>Siyah</td>\n",
       "      <td>Var</td>\n",
       "      <td>Var</td>\n",
       "      <td>Android + iOS</td>\n",
       "      <td>Siyah</td>\n",
       "    </tr>\n",
       "    <tr>\n",
       "      <th>4</th>\n",
       "      <td>2430.0</td>\n",
       "      <td>TECHNOMEN</td>\n",
       "      <td>44.0</td>\n",
       "      <td>2</td>\n",
       "      <td>250.0</td>\n",
       "      <td>1.75</td>\n",
       "      <td>Var</td>\n",
       "      <td>Siyah</td>\n",
       "      <td>Var</td>\n",
       "      <td>Yok</td>\n",
       "      <td>Android + iOS</td>\n",
       "      <td>Pembe</td>\n",
       "    </tr>\n",
       "  </tbody>\n",
       "</table>\n",
       "</div>"
      ],
      "text/plain": [
       "     Fiyat      Marka  Kasa_capi  Garanti_suresi  Batarya_kapasitesi  \\\n",
       "0   3690.0  TECHNOMEN       44.0               2               250.0   \n",
       "1  14999.0      Apple       43.0               2               350.0   \n",
       "2   1342.0     Xiaomi       45.0               2               250.0   \n",
       "3   1211.0        QAP       49.0               1               450.0   \n",
       "4   2430.0  TECHNOMEN       44.0               2               250.0   \n",
       "\n",
       "   Ekran_boyutu Sesli_gorusme   Renk Titresim  GPS   Isletim_tipi Kordon_renk  \n",
       "0          1.75           Var  Siyah      Var  Yok        Android       Siyah  \n",
       "1          1.25           Var  Beyaz      Var  Var            iOS       Beyaz  \n",
       "2          1.75           Var  Siyah      Var  Yok  Android + iOS       Siyah  \n",
       "3          2.25           Var  Siyah      Var  Var  Android + iOS       Siyah  \n",
       "4          1.75           Var  Siyah      Var  Yok  Android + iOS       Pembe  "
      ]
     },
     "execution_count": 3,
     "metadata": {},
     "output_type": "execute_result"
    }
   ],
   "source": [
    "dataset.head()"
   ]
  },
  {
   "cell_type": "code",
   "execution_count": 4,
   "id": "66b33804",
   "metadata": {},
   "outputs": [],
   "source": [
    "dataset[\"Marka\"] = dataset.Marka.str.replace(' ', '')\n",
    "list_marka = dataset[\"Marka\"].unique()"
   ]
  },
  {
   "cell_type": "code",
   "execution_count": 5,
   "id": "0af0299b",
   "metadata": {},
   "outputs": [],
   "source": [
    "list_marka.sort()"
   ]
  },
  {
   "cell_type": "code",
   "execution_count": 6,
   "id": "124cd27d",
   "metadata": {},
   "outputs": [],
   "source": [
    "list_marka = list(list_marka)"
   ]
  },
  {
   "cell_type": "code",
   "execution_count": 7,
   "id": "ac5d35d0",
   "metadata": {},
   "outputs": [
    {
     "data": {
      "text/plain": [
       "0"
      ]
     },
     "execution_count": 7,
     "metadata": {},
     "output_type": "execute_result"
    }
   ],
   "source": [
    "marka_index=list_marka.index(\"Apple\")\n",
    "marka_index"
   ]
  },
  {
   "cell_type": "code",
   "execution_count": 8,
   "id": "aca06d41",
   "metadata": {},
   "outputs": [],
   "source": [
    "df_markalar = pd.DataFrame()"
   ]
  },
  {
   "cell_type": "code",
   "execution_count": 9,
   "id": "ccd84516",
   "metadata": {},
   "outputs": [],
   "source": [
    "df_markalar[\"Markalar\"] = list_marka"
   ]
  },
  {
   "cell_type": "code",
   "execution_count": 10,
   "id": "f337ccc0",
   "metadata": {},
   "outputs": [
    {
     "data": {
      "text/html": [
       "<div>\n",
       "<style scoped>\n",
       "    .dataframe tbody tr th:only-of-type {\n",
       "        vertical-align: middle;\n",
       "    }\n",
       "\n",
       "    .dataframe tbody tr th {\n",
       "        vertical-align: top;\n",
       "    }\n",
       "\n",
       "    .dataframe thead th {\n",
       "        text-align: right;\n",
       "    }\n",
       "</style>\n",
       "<table border=\"1\" class=\"dataframe\">\n",
       "  <thead>\n",
       "    <tr style=\"text-align: right;\">\n",
       "      <th></th>\n",
       "      <th>Markalar</th>\n",
       "    </tr>\n",
       "  </thead>\n",
       "  <tbody>\n",
       "    <tr>\n",
       "      <th>0</th>\n",
       "      <td>Apple</td>\n",
       "    </tr>\n",
       "    <tr>\n",
       "      <th>1</th>\n",
       "      <td>Foon</td>\n",
       "    </tr>\n",
       "    <tr>\n",
       "      <th>2</th>\n",
       "      <td>NewBlue</td>\n",
       "    </tr>\n",
       "    <tr>\n",
       "      <th>3</th>\n",
       "      <td>QAP</td>\n",
       "    </tr>\n",
       "    <tr>\n",
       "      <th>4</th>\n",
       "      <td>SEYUWATCH</td>\n",
       "    </tr>\n",
       "    <tr>\n",
       "      <th>5</th>\n",
       "      <td>SMARTEST</td>\n",
       "    </tr>\n",
       "    <tr>\n",
       "      <th>6</th>\n",
       "      <td>SeyuTech</td>\n",
       "    </tr>\n",
       "    <tr>\n",
       "      <th>7</th>\n",
       "      <td>TECHNOMEN</td>\n",
       "    </tr>\n",
       "    <tr>\n",
       "      <th>8</th>\n",
       "      <td>TEKNOHANE</td>\n",
       "    </tr>\n",
       "    <tr>\n",
       "      <th>9</th>\n",
       "      <td>TeknolojiGelsin</td>\n",
       "    </tr>\n",
       "    <tr>\n",
       "      <th>10</th>\n",
       "      <td>Universal</td>\n",
       "    </tr>\n",
       "    <tr>\n",
       "      <th>11</th>\n",
       "      <td>Wyze</td>\n",
       "    </tr>\n",
       "    <tr>\n",
       "      <th>12</th>\n",
       "      <td>Xiaomi</td>\n",
       "    </tr>\n",
       "  </tbody>\n",
       "</table>\n",
       "</div>"
      ],
      "text/plain": [
       "           Markalar\n",
       "0             Apple\n",
       "1              Foon\n",
       "2           NewBlue\n",
       "3               QAP\n",
       "4         SEYUWATCH\n",
       "5          SMARTEST\n",
       "6          SeyuTech\n",
       "7         TECHNOMEN\n",
       "8         TEKNOHANE\n",
       "9   TeknolojiGelsin\n",
       "10        Universal\n",
       "11             Wyze\n",
       "12           Xiaomi"
      ]
     },
     "execution_count": 10,
     "metadata": {},
     "output_type": "execute_result"
    }
   ],
   "source": [
    "df_markalar"
   ]
  },
  {
   "cell_type": "code",
   "execution_count": 11,
   "id": "a9f83d27",
   "metadata": {},
   "outputs": [],
   "source": [
    "df_markalar.to_csv(r'C:\\Users\\user\\OneDrive - Manisa Celal Bayar Üniversitesi\\Masaüstü\\Beyza Yoldaş\\Veri Toplama\\markalar.csv',index=False)"
   ]
  },
  {
   "cell_type": "code",
   "execution_count": null,
   "id": "fdce8c3d",
   "metadata": {},
   "outputs": [],
   "source": []
  }
 ],
 "metadata": {
  "kernelspec": {
   "display_name": "Python 3 (ipykernel)",
   "language": "python",
   "name": "python3"
  },
  "language_info": {
   "codemirror_mode": {
    "name": "ipython",
    "version": 3
   },
   "file_extension": ".py",
   "mimetype": "text/x-python",
   "name": "python",
   "nbconvert_exporter": "python",
   "pygments_lexer": "ipython3",
   "version": "3.11.5"
  }
 },
 "nbformat": 4,
 "nbformat_minor": 5
}
